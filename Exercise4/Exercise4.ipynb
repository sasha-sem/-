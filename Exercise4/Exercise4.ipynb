{
  "cells": [
    {
      "cell_type": "markdown",
      "metadata": {
        "id": "5FTzd6Tr1HE6"
      },
      "source": [
        "# Построение сверточной нейронной сети для классификации изображений из датасета CIFAR-100, с использованием BatchNormalization() и Dropout()"
      ]
    },
    {
      "cell_type": "markdown",
      "metadata": {
        "id": "gdX9a26i5B-4"
      },
      "source": [
        "[Код с пары](https://colab.research.google.com/drive/1cvPrPI09ySQy-D92gKTzmanVi2cj5Gw_?usp=sharing)"
      ]
    },
    {
      "cell_type": "markdown",
      "metadata": {
        "id": "PegOFe6t0NPk"
      },
      "source": [
        "### Задание 1. Загрузите исходный датасет. Разделите его на обучающую и тестовую выборки. Визуализируйте несколько изображений из датасета. Произведите нормализацию данных. \n",
        "\n",
        "\n",
        "*P.S.: Не забудьте обратить внимание на размерность (shape) исходных данных и при необходимости измените её (см. примеры из предыдущих занятий)*\n",
        "\n",
        "[Информация о датасете в Kaggle](https://www.kaggle.com/datasets/fedesoriano/cifar100?resource=download&select=meta)\n",
        "\n",
        "[Техническая документация по использованию датасета в Keras](https://keras.io/api/datasets/cifar100/)\n",
        "\n",
        "\n",
        "\n"
      ]
    },
    {
      "cell_type": "code",
      "execution_count": 1,
      "metadata": {
        "colab": {
          "base_uri": "https://localhost:8080/"
        },
        "id": "SSerkZhqz-Zu",
        "outputId": "8649bf11-7cd0-4863-a7e4-573db255405a"
      },
      "outputs": [
        {
          "name": "stdout",
          "output_type": "stream",
          "text": [
            "Downloading data from https://www.cs.toronto.edu/~kriz/cifar-100-python.tar.gz\n",
            "169001437/169001437 [==============================] - 14s 0us/step\n",
            "Train: X =  (50000, 32, 32, 3)\n",
            "Train: Y =  (50000, 100)\n",
            "\n",
            "Test: X =  (10000, 32, 32, 3)\n",
            "Test: Y =  (10000, 100)\n"
          ]
        }
      ],
      "source": [
        "from tensorflow import keras\n",
        "\n",
        "(trainX, trainY), (testX, testY) = keras.datasets.cifar100.load_data()\n",
        "trainX = trainX.astype('float32') / 255\n",
        "testX = testX.astype('float32') / 255\n",
        "\n",
        "\n",
        "trainY = keras.utils.to_categorical(trainY, 100)\n",
        "testY = keras.utils.to_categorical(testY, 100)\n",
        "\n",
        "print('Train: X = ', trainX.shape)\n",
        "print('Train: Y = ', trainY.shape)\n",
        "print()\n",
        "print('Test: X = ', testX.shape)\n",
        "print('Test: Y = ', testY.shape)"
      ]
    },
    {
      "cell_type": "markdown",
      "metadata": {
        "id": "ne7OBLid0NY-"
      },
      "source": [
        "### Задание 2. Создайте модель сверточной нейронной сети для решения поставленной задачи без использования BatchNormalization() и Dropout(). \n",
        "\n",
        "Имя данной модели: model_1"
      ]
    },
    {
      "cell_type": "code",
      "execution_count": 2,
      "metadata": {
        "colab": {
          "base_uri": "https://localhost:8080/"
        },
        "id": "Gy0_n8G03kcU",
        "outputId": "986043f4-0273-4025-9188-b3b57abeb5e4"
      },
      "outputs": [
        {
          "name": "stdout",
          "output_type": "stream",
          "text": [
            "Model: \"sequential\"\n",
            "_________________________________________________________________\n",
            " Layer (type)                Output Shape              Param #   \n",
            "=================================================================\n",
            " conv2d (Conv2D)             (None, 32, 32, 32)        896       \n",
            "                                                                 \n",
            " activation (Activation)     (None, 32, 32, 32)        0         \n",
            "                                                                 \n",
            " conv2d_1 (Conv2D)           (None, 30, 30, 32)        9248      \n",
            "                                                                 \n",
            " activation_1 (Activation)   (None, 30, 30, 32)        0         \n",
            "                                                                 \n",
            " max_pooling2d (MaxPooling2D  (None, 15, 15, 32)       0         \n",
            " )                                                               \n",
            "                                                                 \n",
            " conv2d_2 (Conv2D)           (None, 15, 15, 64)        18496     \n",
            "                                                                 \n",
            " activation_2 (Activation)   (None, 15, 15, 64)        0         \n",
            "                                                                 \n",
            " conv2d_3 (Conv2D)           (None, 13, 13, 64)        36928     \n",
            "                                                                 \n",
            " activation_3 (Activation)   (None, 13, 13, 64)        0         \n",
            "                                                                 \n",
            " max_pooling2d_1 (MaxPooling  (None, 6, 6, 64)         0         \n",
            " 2D)                                                             \n",
            "                                                                 \n",
            " flatten (Flatten)           (None, 2304)              0         \n",
            "                                                                 \n",
            " dense (Dense)               (None, 512)               1180160   \n",
            "                                                                 \n",
            " activation_4 (Activation)   (None, 512)               0         \n",
            "                                                                 \n",
            " dense_1 (Dense)             (None, 100)               51300     \n",
            "                                                                 \n",
            " activation_5 (Activation)   (None, 100)               0         \n",
            "                                                                 \n",
            "=================================================================\n",
            "Total params: 1,297,028\n",
            "Trainable params: 1,297,028\n",
            "Non-trainable params: 0\n",
            "_________________________________________________________________\n"
          ]
        }
      ],
      "source": [
        "from keras.layers import Activation, BatchNormalization, Dropout, Conv2D, Dense, Flatten, MaxPooling2D\n",
        "from keras.models import Sequential\n",
        "\n",
        "model_1 = Sequential()\n",
        "model_1.add(Conv2D(32, (3, 3), padding='same',\n",
        "                 input_shape=(32, 32, 3)))\n",
        "model_1.add(Activation('relu'))\n",
        "model_1.add(Conv2D(32, (3, 3)))\n",
        "model_1.add(Activation('relu'))\n",
        "model_1.add(MaxPooling2D(pool_size=(2, 2)))\n",
        "\n",
        "model_1.add(Conv2D(64, (3, 3), padding='same'))\n",
        "model_1.add(Activation('relu'))\n",
        "model_1.add(Conv2D(64, (3, 3)))\n",
        "model_1.add(Activation('relu'))\n",
        "model_1.add(MaxPooling2D(pool_size=(2, 2)))\n",
        "\n",
        "model_1.add(Flatten())\n",
        "model_1.add(Dense(512))\n",
        "model_1.add(Activation('relu'))\n",
        "model_1.add(Dense(100))\n",
        "model_1.add(Activation('softmax'))\n",
        "\n",
        "model_1.compile(loss='categorical_crossentropy',\n",
        "              optimizer='adam',\n",
        "              metrics=['accuracy'])\n",
        "\n",
        "model_1.summary()"
      ]
    },
    {
      "cell_type": "markdown",
      "metadata": {
        "id": "69zrqqaA5kOd"
      },
      "source": [
        "Обучите созданную модель"
      ]
    },
    {
      "cell_type": "code",
      "execution_count": 3,
      "metadata": {
        "id": "6uBAnPDU5s5I"
      },
      "outputs": [],
      "source": [
        "batch_size = 128\n",
        "epochs = 10"
      ]
    },
    {
      "cell_type": "code",
      "execution_count": 4,
      "metadata": {
        "colab": {
          "base_uri": "https://localhost:8080/"
        },
        "id": "ZnOd5ZEG7-4w",
        "outputId": "1fbe8456-3494-4c4a-aaf9-5183e9b72107"
      },
      "outputs": [
        {
          "name": "stdout",
          "output_type": "stream",
          "text": [
            "Epoch 1/10\n",
            "391/391 [==============================] - 16s 16ms/step - loss: 3.7109 - accuracy: 0.1390 - val_loss: 3.1795 - val_accuracy: 0.2294\n",
            "Epoch 2/10\n",
            "391/391 [==============================] - 6s 16ms/step - loss: 2.8593 - accuracy: 0.2923 - val_loss: 2.7274 - val_accuracy: 0.3247\n",
            "Epoch 3/10\n",
            "391/391 [==============================] - 5s 13ms/step - loss: 2.4292 - accuracy: 0.3791 - val_loss: 2.5339 - val_accuracy: 0.3663\n",
            "Epoch 4/10\n",
            "391/391 [==============================] - 5s 14ms/step - loss: 2.1070 - accuracy: 0.4498 - val_loss: 2.4206 - val_accuracy: 0.3963\n",
            "Epoch 5/10\n",
            "391/391 [==============================] - 5s 13ms/step - loss: 1.8158 - accuracy: 0.5138 - val_loss: 2.3954 - val_accuracy: 0.4076\n",
            "Epoch 6/10\n",
            "391/391 [==============================] - 6s 14ms/step - loss: 1.5344 - accuracy: 0.5810 - val_loss: 2.5079 - val_accuracy: 0.3999\n",
            "Epoch 7/10\n",
            "391/391 [==============================] - 4s 10ms/step - loss: 1.2616 - accuracy: 0.6494 - val_loss: 2.6016 - val_accuracy: 0.4119\n",
            "Epoch 8/10\n",
            "391/391 [==============================] - 3s 8ms/step - loss: 0.9987 - accuracy: 0.7142 - val_loss: 2.8844 - val_accuracy: 0.4028\n",
            "Epoch 9/10\n",
            "391/391 [==============================] - 3s 8ms/step - loss: 0.7566 - accuracy: 0.7772 - val_loss: 3.1572 - val_accuracy: 0.3960\n",
            "Epoch 10/10\n",
            "391/391 [==============================] - 3s 8ms/step - loss: 0.5581 - accuracy: 0.8310 - val_loss: 3.5722 - val_accuracy: 0.3973\n"
          ]
        }
      ],
      "source": [
        "model_1_history = model_1.fit(trainX, trainY,\n",
        "                              batch_size=batch_size,\n",
        "                              epochs=epochs,\n",
        "                              verbose=1,\n",
        "                              validation_data=(testX, testY))"
      ]
    },
    {
      "cell_type": "markdown",
      "metadata": {
        "id": "07x5ciPl0Njy"
      },
      "source": [
        "### Задание 3. Создайте модель сверточной нейронной сети для решения поставленной задачи с использованием BatchNormalization(). \n",
        "\n",
        "Имя данной модели: model_2"
      ]
    },
    {
      "cell_type": "code",
      "execution_count": 5,
      "metadata": {
        "colab": {
          "base_uri": "https://localhost:8080/"
        },
        "id": "vy9H9gcJ3kzl",
        "outputId": "43ca257f-22c3-45f7-849f-af4b94422114"
      },
      "outputs": [
        {
          "name": "stdout",
          "output_type": "stream",
          "text": [
            "Model: \"sequential_1\"\n",
            "_________________________________________________________________\n",
            " Layer (type)                Output Shape              Param #   \n",
            "=================================================================\n",
            " conv2d_4 (Conv2D)           (None, 32, 32, 32)        896       \n",
            "                                                                 \n",
            " activation_6 (Activation)   (None, 32, 32, 32)        0         \n",
            "                                                                 \n",
            " conv2d_5 (Conv2D)           (None, 30, 30, 32)        9248      \n",
            "                                                                 \n",
            " activation_7 (Activation)   (None, 30, 30, 32)        0         \n",
            "                                                                 \n",
            " batch_normalization (BatchN  (None, 30, 30, 32)       128       \n",
            " ormalization)                                                   \n",
            "                                                                 \n",
            " max_pooling2d_2 (MaxPooling  (None, 15, 15, 32)       0         \n",
            " 2D)                                                             \n",
            "                                                                 \n",
            " conv2d_6 (Conv2D)           (None, 15, 15, 64)        18496     \n",
            "                                                                 \n",
            " activation_8 (Activation)   (None, 15, 15, 64)        0         \n",
            "                                                                 \n",
            " batch_normalization_1 (Batc  (None, 15, 15, 64)       256       \n",
            " hNormalization)                                                 \n",
            "                                                                 \n",
            " conv2d_7 (Conv2D)           (None, 13, 13, 64)        36928     \n",
            "                                                                 \n",
            " activation_9 (Activation)   (None, 13, 13, 64)        0         \n",
            "                                                                 \n",
            " batch_normalization_2 (Batc  (None, 13, 13, 64)       256       \n",
            " hNormalization)                                                 \n",
            "                                                                 \n",
            " max_pooling2d_3 (MaxPooling  (None, 6, 6, 64)         0         \n",
            " 2D)                                                             \n",
            "                                                                 \n",
            " flatten_1 (Flatten)         (None, 2304)              0         \n",
            "                                                                 \n",
            " dense_2 (Dense)             (None, 512)               1180160   \n",
            "                                                                 \n",
            " activation_10 (Activation)  (None, 512)               0         \n",
            "                                                                 \n",
            " batch_normalization_3 (Batc  (None, 512)              2048      \n",
            " hNormalization)                                                 \n",
            "                                                                 \n",
            " dense_3 (Dense)             (None, 100)               51300     \n",
            "                                                                 \n",
            " activation_11 (Activation)  (None, 100)               0         \n",
            "                                                                 \n",
            "=================================================================\n",
            "Total params: 1,299,716\n",
            "Trainable params: 1,298,372\n",
            "Non-trainable params: 1,344\n",
            "_________________________________________________________________\n"
          ]
        }
      ],
      "source": [
        "model_2 = Sequential()\n",
        "model_2.add(Conv2D(32, (3, 3), padding='same',\n",
        "                 input_shape=(32, 32, 3)))\n",
        "model_2.add(Activation('relu'))\n",
        "model_2.add(Conv2D(32, (3, 3)))\n",
        "model_2.add(Activation('relu'))\n",
        "\n",
        "model_2.add(BatchNormalization())\n",
        "model_2.add(MaxPooling2D(pool_size=(2, 2)))\n",
        "\n",
        "model_2.add(Conv2D(64, (3, 3), padding='same'))\n",
        "model_2.add(Activation('relu'))\n",
        "model_2.add(BatchNormalization())\n",
        "model_2.add(Conv2D(64, (3, 3)))\n",
        "model_2.add(Activation('relu'))\n",
        "model_2.add(BatchNormalization())\n",
        "model_2.add(MaxPooling2D(pool_size=(2, 2)))\n",
        "\n",
        "model_2.add(Flatten())\n",
        "model_2.add(Dense(512))\n",
        "model_2.add(Activation('relu'))\n",
        "\n",
        "model_2.add(BatchNormalization())\n",
        "model_2.add(Dense(100))\n",
        "model_2.add(Activation('softmax'))\n",
        "\n",
        "model_2.compile(loss='categorical_crossentropy',\n",
        "              optimizer='adam',\n",
        "              metrics=['accuracy'])\n",
        "\n",
        "model_2.summary()"
      ]
    },
    {
      "cell_type": "markdown",
      "metadata": {
        "id": "7vrswF436DNo"
      },
      "source": [
        "Обучите созданную модель"
      ]
    },
    {
      "cell_type": "code",
      "execution_count": 6,
      "metadata": {
        "id": "2xOOok5l6DNo"
      },
      "outputs": [],
      "source": [
        "batch_size = 128\n",
        "epochs = 10"
      ]
    },
    {
      "cell_type": "code",
      "execution_count": 7,
      "metadata": {
        "colab": {
          "base_uri": "https://localhost:8080/"
        },
        "id": "KeBwRBvH3Xbe",
        "outputId": "1519a77c-bab4-4ac2-d12e-a8f352af160b"
      },
      "outputs": [
        {
          "name": "stdout",
          "output_type": "stream",
          "text": [
            "Epoch 1/10\n",
            "391/391 [==============================] - 5s 11ms/step - loss: 3.2248 - accuracy: 0.2418 - val_loss: 4.1710 - val_accuracy: 0.1144\n",
            "Epoch 2/10\n",
            "391/391 [==============================] - 4s 11ms/step - loss: 2.2439 - accuracy: 0.4232 - val_loss: 2.7171 - val_accuracy: 0.3367\n",
            "Epoch 3/10\n",
            "391/391 [==============================] - 4s 10ms/step - loss: 1.7297 - accuracy: 0.5390 - val_loss: 2.6895 - val_accuracy: 0.3636\n",
            "Epoch 4/10\n",
            "391/391 [==============================] - 4s 10ms/step - loss: 1.3023 - accuracy: 0.6471 - val_loss: 2.7330 - val_accuracy: 0.3811\n",
            "Epoch 5/10\n",
            "391/391 [==============================] - 4s 11ms/step - loss: 0.8616 - accuracy: 0.7675 - val_loss: 2.7824 - val_accuracy: 0.3959\n",
            "Epoch 6/10\n",
            "391/391 [==============================] - 4s 11ms/step - loss: 0.4866 - accuracy: 0.8749 - val_loss: 2.7193 - val_accuracy: 0.4175\n",
            "Epoch 7/10\n",
            "391/391 [==============================] - 4s 11ms/step - loss: 0.2303 - accuracy: 0.9489 - val_loss: 3.0282 - val_accuracy: 0.3973\n",
            "Epoch 8/10\n",
            "391/391 [==============================] - 4s 11ms/step - loss: 0.1039 - accuracy: 0.9839 - val_loss: 3.0983 - val_accuracy: 0.4122\n",
            "Epoch 9/10\n",
            "391/391 [==============================] - 4s 10ms/step - loss: 0.0560 - accuracy: 0.9935 - val_loss: 3.1941 - val_accuracy: 0.4178\n",
            "Epoch 10/10\n",
            "391/391 [==============================] - 4s 10ms/step - loss: 0.0364 - accuracy: 0.9965 - val_loss: 3.2438 - val_accuracy: 0.4207\n"
          ]
        }
      ],
      "source": [
        "model_2_history = model_2.fit(trainX, trainY,\n",
        "                              batch_size=batch_size,\n",
        "                              epochs=epochs,\n",
        "                              verbose=1,\n",
        "                              validation_data=(testX, testY))"
      ]
    },
    {
      "cell_type": "markdown",
      "metadata": {
        "id": "386TvloP3lJF"
      },
      "source": [
        "### Задание 4. Создайте модель сверточной нейронной сети для решения поставленной задачи с использованием Dropout(). \n",
        "\n",
        "Имя данной модели: model_3"
      ]
    },
    {
      "cell_type": "code",
      "execution_count": 8,
      "metadata": {
        "colab": {
          "base_uri": "https://localhost:8080/"
        },
        "id": "e-tkmz9d3lXx",
        "outputId": "263aa700-3af6-4106-98db-6a7f2aa0ce65"
      },
      "outputs": [
        {
          "name": "stdout",
          "output_type": "stream",
          "text": [
            "Model: \"sequential_2\"\n",
            "_________________________________________________________________\n",
            " Layer (type)                Output Shape              Param #   \n",
            "=================================================================\n",
            " conv2d_8 (Conv2D)           (None, 32, 32, 32)        896       \n",
            "                                                                 \n",
            " activation_12 (Activation)  (None, 32, 32, 32)        0         \n",
            "                                                                 \n",
            " conv2d_9 (Conv2D)           (None, 30, 30, 32)        9248      \n",
            "                                                                 \n",
            " activation_13 (Activation)  (None, 30, 30, 32)        0         \n",
            "                                                                 \n",
            " max_pooling2d_4 (MaxPooling  (None, 15, 15, 32)       0         \n",
            " 2D)                                                             \n",
            "                                                                 \n",
            " dropout (Dropout)           (None, 15, 15, 32)        0         \n",
            "                                                                 \n",
            " conv2d_10 (Conv2D)          (None, 15, 15, 64)        18496     \n",
            "                                                                 \n",
            " activation_14 (Activation)  (None, 15, 15, 64)        0         \n",
            "                                                                 \n",
            " conv2d_11 (Conv2D)          (None, 13, 13, 64)        36928     \n",
            "                                                                 \n",
            " activation_15 (Activation)  (None, 13, 13, 64)        0         \n",
            "                                                                 \n",
            " max_pooling2d_5 (MaxPooling  (None, 6, 6, 64)         0         \n",
            " 2D)                                                             \n",
            "                                                                 \n",
            " dropout_1 (Dropout)         (None, 6, 6, 64)          0         \n",
            "                                                                 \n",
            " flatten_2 (Flatten)         (None, 2304)              0         \n",
            "                                                                 \n",
            " dense_4 (Dense)             (None, 512)               1180160   \n",
            "                                                                 \n",
            " activation_16 (Activation)  (None, 512)               0         \n",
            "                                                                 \n",
            " dropout_2 (Dropout)         (None, 512)               0         \n",
            "                                                                 \n",
            " dense_5 (Dense)             (None, 100)               51300     \n",
            "                                                                 \n",
            " activation_17 (Activation)  (None, 100)               0         \n",
            "                                                                 \n",
            "=================================================================\n",
            "Total params: 1,297,028\n",
            "Trainable params: 1,297,028\n",
            "Non-trainable params: 0\n",
            "_________________________________________________________________\n"
          ]
        }
      ],
      "source": [
        "model_3 = Sequential()\n",
        "model_3.add(Conv2D(32, (3, 3), padding='same',\n",
        "                 input_shape=(32, 32, 3)))\n",
        "model_3.add(Activation('relu'))\n",
        "model_3.add(Conv2D(32, (3, 3)))\n",
        "model_3.add(Activation('relu'))\n",
        "model_3.add(MaxPooling2D(pool_size=(2, 2)))\n",
        "model_3.add(Dropout(0.25))\n",
        "\n",
        "model_3.add(Conv2D(64, (3, 3), padding='same'))\n",
        "model_3.add(Activation('relu'))\n",
        "model_3.add(Conv2D(64, (3, 3)))\n",
        "model_3.add(Activation('relu'))\n",
        "model_3.add(MaxPooling2D(pool_size=(2, 2)))\n",
        "model_3.add(Dropout(0.25))\n",
        "\n",
        "model_3.add(Flatten())\n",
        "model_3.add(Dense(512))\n",
        "model_3.add(Activation('relu'))\n",
        "model_3.add(Dropout(0.5))\n",
        "model_3.add(Dense(100))\n",
        "model_3.add(Activation('softmax'))\n",
        "\n",
        "model_3.compile(loss='categorical_crossentropy',\n",
        "              optimizer='adam',\n",
        "              metrics=['accuracy'])\n",
        "\n",
        "model_3.summary()"
      ]
    },
    {
      "cell_type": "markdown",
      "metadata": {
        "id": "hehT-6re6RXv"
      },
      "source": [
        "Обучите созданную модель"
      ]
    },
    {
      "cell_type": "code",
      "execution_count": 9,
      "metadata": {
        "id": "c6HNFpOE6RXw"
      },
      "outputs": [],
      "source": [
        "batch_size = 128\n",
        "epochs = 20"
      ]
    },
    {
      "cell_type": "code",
      "execution_count": 10,
      "metadata": {
        "colab": {
          "base_uri": "https://localhost:8080/"
        },
        "id": "35O4U0Jr4Q8m",
        "outputId": "e800d6ac-3fcd-4663-db01-e42361a815f2"
      },
      "outputs": [
        {
          "name": "stdout",
          "output_type": "stream",
          "text": [
            "Epoch 1/20\n",
            "391/391 [==============================] - 4s 9ms/step - loss: 4.1333 - accuracy: 0.0666 - val_loss: 3.5664 - val_accuracy: 0.1597\n",
            "Epoch 2/20\n",
            "391/391 [==============================] - 4s 9ms/step - loss: 3.4703 - accuracy: 0.1719 - val_loss: 3.1121 - val_accuracy: 0.2478\n",
            "Epoch 3/20\n",
            "391/391 [==============================] - 4s 10ms/step - loss: 3.1570 - accuracy: 0.2284 - val_loss: 2.8474 - val_accuracy: 0.2965\n",
            "Epoch 4/20\n",
            "391/391 [==============================] - 6s 15ms/step - loss: 2.9349 - accuracy: 0.2694 - val_loss: 2.7347 - val_accuracy: 0.3192\n",
            "Epoch 5/20\n",
            "391/391 [==============================] - 5s 14ms/step - loss: 2.7713 - accuracy: 0.3024 - val_loss: 2.5220 - val_accuracy: 0.3643\n",
            "Epoch 6/20\n",
            "391/391 [==============================] - 6s 15ms/step - loss: 2.6305 - accuracy: 0.3306 - val_loss: 2.4327 - val_accuracy: 0.3810\n",
            "Epoch 7/20\n",
            "391/391 [==============================] - 5s 14ms/step - loss: 2.5221 - accuracy: 0.3520 - val_loss: 2.3490 - val_accuracy: 0.4004\n",
            "Epoch 8/20\n",
            "391/391 [==============================] - 5s 13ms/step - loss: 2.4280 - accuracy: 0.3734 - val_loss: 2.2680 - val_accuracy: 0.4199\n",
            "Epoch 9/20\n",
            "391/391 [==============================] - 3s 9ms/step - loss: 2.3477 - accuracy: 0.3885 - val_loss: 2.2067 - val_accuracy: 0.4298\n",
            "Epoch 10/20\n",
            "391/391 [==============================] - 3s 9ms/step - loss: 2.2787 - accuracy: 0.4043 - val_loss: 2.1710 - val_accuracy: 0.4396\n",
            "Epoch 11/20\n",
            "391/391 [==============================] - 3s 9ms/step - loss: 2.2043 - accuracy: 0.4168 - val_loss: 2.1734 - val_accuracy: 0.4363\n",
            "Epoch 12/20\n",
            "391/391 [==============================] - 3s 9ms/step - loss: 2.1661 - accuracy: 0.4261 - val_loss: 2.1084 - val_accuracy: 0.4506\n",
            "Epoch 13/20\n",
            "391/391 [==============================] - 3s 9ms/step - loss: 2.1030 - accuracy: 0.4416 - val_loss: 2.0784 - val_accuracy: 0.4551\n",
            "Epoch 14/20\n",
            "391/391 [==============================] - 3s 9ms/step - loss: 2.0698 - accuracy: 0.4434 - val_loss: 2.0526 - val_accuracy: 0.4603\n",
            "Epoch 15/20\n",
            "391/391 [==============================] - 5s 14ms/step - loss: 2.0145 - accuracy: 0.4592 - val_loss: 2.0752 - val_accuracy: 0.4597\n",
            "Epoch 16/20\n",
            "391/391 [==============================] - 4s 10ms/step - loss: 1.9872 - accuracy: 0.4612 - val_loss: 2.0197 - val_accuracy: 0.4709\n",
            "Epoch 17/20\n",
            "391/391 [==============================] - 3s 9ms/step - loss: 1.9351 - accuracy: 0.4736 - val_loss: 2.0070 - val_accuracy: 0.4759\n",
            "Epoch 18/20\n",
            "391/391 [==============================] - 4s 9ms/step - loss: 1.9051 - accuracy: 0.4803 - val_loss: 2.0122 - val_accuracy: 0.4755\n",
            "Epoch 19/20\n",
            "391/391 [==============================] - 3s 9ms/step - loss: 1.8757 - accuracy: 0.4852 - val_loss: 2.0195 - val_accuracy: 0.4723\n",
            "Epoch 20/20\n",
            "391/391 [==============================] - 4s 9ms/step - loss: 1.8538 - accuracy: 0.4906 - val_loss: 1.9748 - val_accuracy: 0.4791\n"
          ]
        }
      ],
      "source": [
        "model_3_history = model_3.fit(trainX, trainY,\n",
        "                              batch_size=batch_size,\n",
        "                              epochs=epochs,\n",
        "                              verbose=1,\n",
        "                              validation_data=(testX, testY))"
      ]
    },
    {
      "cell_type": "markdown",
      "metadata": {
        "id": "qz2qhKtu7Jgf"
      },
      "source": [
        "### Задание 5. Создайте модель сверточной нейронной сети для решения поставленной задачи с использованием Dropout() и BatchNormalization().\n",
        "\n",
        "См. рекомендации [здесь](https://stackoverflow.com/questions/39691902/ordering-of-batch-normalization-and-dropout) и [здесь](https://www.kaggle.com/code/ryanholbrook/dropout-and-batch-normalization/)\n",
        "\n",
        "Имя данной модели: model_4"
      ]
    },
    {
      "cell_type": "code",
      "execution_count": 11,
      "metadata": {
        "colab": {
          "base_uri": "https://localhost:8080/"
        },
        "id": "dVuNM8lI7Jgo",
        "outputId": "b6fb0c78-6bee-4c98-e931-b755cb2846ad"
      },
      "outputs": [
        {
          "name": "stdout",
          "output_type": "stream",
          "text": [
            "Model: \"sequential_3\"\n",
            "_________________________________________________________________\n",
            " Layer (type)                Output Shape              Param #   \n",
            "=================================================================\n",
            " conv2d_12 (Conv2D)          (None, 32, 32, 32)        896       \n",
            "                                                                 \n",
            " activation_18 (Activation)  (None, 32, 32, 32)        0         \n",
            "                                                                 \n",
            " conv2d_13 (Conv2D)          (None, 30, 30, 32)        9248      \n",
            "                                                                 \n",
            " activation_19 (Activation)  (None, 30, 30, 32)        0         \n",
            "                                                                 \n",
            " batch_normalization_4 (Batc  (None, 30, 30, 32)       128       \n",
            " hNormalization)                                                 \n",
            "                                                                 \n",
            " max_pooling2d_6 (MaxPooling  (None, 15, 15, 32)       0         \n",
            " 2D)                                                             \n",
            "                                                                 \n",
            " dropout_3 (Dropout)         (None, 15, 15, 32)        0         \n",
            "                                                                 \n",
            " conv2d_14 (Conv2D)          (None, 15, 15, 64)        18496     \n",
            "                                                                 \n",
            " activation_20 (Activation)  (None, 15, 15, 64)        0         \n",
            "                                                                 \n",
            " batch_normalization_5 (Batc  (None, 15, 15, 64)       256       \n",
            " hNormalization)                                                 \n",
            "                                                                 \n",
            " conv2d_15 (Conv2D)          (None, 13, 13, 64)        36928     \n",
            "                                                                 \n",
            " activation_21 (Activation)  (None, 13, 13, 64)        0         \n",
            "                                                                 \n",
            " batch_normalization_6 (Batc  (None, 13, 13, 64)       256       \n",
            " hNormalization)                                                 \n",
            "                                                                 \n",
            " max_pooling2d_7 (MaxPooling  (None, 6, 6, 64)         0         \n",
            " 2D)                                                             \n",
            "                                                                 \n",
            " dropout_4 (Dropout)         (None, 6, 6, 64)          0         \n",
            "                                                                 \n",
            " flatten_3 (Flatten)         (None, 2304)              0         \n",
            "                                                                 \n",
            " dense_6 (Dense)             (None, 512)               1180160   \n",
            "                                                                 \n",
            " activation_22 (Activation)  (None, 512)               0         \n",
            "                                                                 \n",
            " dropout_5 (Dropout)         (None, 512)               0         \n",
            "                                                                 \n",
            " dense_7 (Dense)             (None, 100)               51300     \n",
            "                                                                 \n",
            " activation_23 (Activation)  (None, 100)               0         \n",
            "                                                                 \n",
            "=================================================================\n",
            "Total params: 1,297,668\n",
            "Trainable params: 1,297,348\n",
            "Non-trainable params: 320\n",
            "_________________________________________________________________\n"
          ]
        }
      ],
      "source": [
        "model_4 = Sequential()\n",
        "model_4.add(Conv2D(32, (3, 3), padding='same',\n",
        "                 input_shape=(32, 32, 3)))\n",
        "model_4.add(Activation('relu'))\n",
        "model_4.add(Conv2D(32, (3, 3)))\n",
        "model_4.add(Activation('relu'))\n",
        "\n",
        "model_4.add(BatchNormalization())\n",
        "model_4.add(MaxPooling2D(pool_size=(2, 2)))\n",
        "model_4.add(Dropout(0.25))\n",
        "\n",
        "model_4.add(Conv2D(64, (3, 3), padding='same'))\n",
        "model_4.add(Activation('relu'))\n",
        "model_4.add(BatchNormalization())\n",
        "model_4.add(Conv2D(64, (3, 3)))\n",
        "model_4.add(Activation('relu'))\n",
        "model_4.add(BatchNormalization())\n",
        "model_4.add(MaxPooling2D(pool_size=(2, 2)))\n",
        "model_4.add(Dropout(0.25))\n",
        "\n",
        "model_4.add(Flatten())\n",
        "\n",
        "model_4.add(Dense(512))\n",
        "model_4.add(Activation('relu'))\n",
        "\n",
        "model_4.add(Dropout(0.5))\n",
        "model_4.add(Dense(100))\n",
        "model_4.add(Activation('softmax'))\n",
        "\n",
        "model_4.compile(loss='categorical_crossentropy',\n",
        "              optimizer='adam',\n",
        "              metrics=['accuracy'])\n",
        "\n",
        "model_4.summary()"
      ]
    },
    {
      "cell_type": "markdown",
      "metadata": {
        "id": "nES6ENxq7Jgp"
      },
      "source": [
        "Обучите созданную модель"
      ]
    },
    {
      "cell_type": "code",
      "execution_count": 12,
      "metadata": {
        "id": "SWIPC22-7Jgp"
      },
      "outputs": [],
      "source": [
        "batch_size = 512\n",
        "epochs = 25"
      ]
    },
    {
      "cell_type": "code",
      "execution_count": 13,
      "metadata": {
        "colab": {
          "base_uri": "https://localhost:8080/"
        },
        "id": "DXx5nRr18VUO",
        "outputId": "4e7c7d6e-641a-43f7-d768-fe88c8aff4d2"
      },
      "outputs": [
        {
          "name": "stdout",
          "output_type": "stream",
          "text": [
            "Epoch 1/25\n",
            "98/98 [==============================] - 5s 45ms/step - loss: 4.3514 - accuracy: 0.0643 - val_loss: 5.8002 - val_accuracy: 0.0116\n",
            "Epoch 2/25\n",
            "98/98 [==============================] - 4s 37ms/step - loss: 3.7367 - accuracy: 0.1377 - val_loss: 7.0745 - val_accuracy: 0.0126\n",
            "Epoch 3/25\n",
            "98/98 [==============================] - 4s 37ms/step - loss: 3.3833 - accuracy: 0.1944 - val_loss: 6.5822 - val_accuracy: 0.0262\n",
            "Epoch 4/25\n",
            "98/98 [==============================] - 3s 31ms/step - loss: 3.1184 - accuracy: 0.2386 - val_loss: 5.4022 - val_accuracy: 0.0512\n",
            "Epoch 5/25\n",
            "98/98 [==============================] - 3s 29ms/step - loss: 2.9174 - accuracy: 0.2761 - val_loss: 3.7647 - val_accuracy: 0.1557\n",
            "Epoch 6/25\n",
            "98/98 [==============================] - 3s 30ms/step - loss: 2.7405 - accuracy: 0.3085 - val_loss: 2.7331 - val_accuracy: 0.3118\n",
            "Epoch 7/25\n",
            "98/98 [==============================] - 3s 30ms/step - loss: 2.5863 - accuracy: 0.3407 - val_loss: 2.4513 - val_accuracy: 0.3721\n",
            "Epoch 8/25\n",
            "98/98 [==============================] - 3s 30ms/step - loss: 2.4443 - accuracy: 0.3673 - val_loss: 2.3557 - val_accuracy: 0.3956\n",
            "Epoch 9/25\n",
            "98/98 [==============================] - 3s 30ms/step - loss: 2.3225 - accuracy: 0.3932 - val_loss: 2.4960 - val_accuracy: 0.3673\n",
            "Epoch 10/25\n",
            "98/98 [==============================] - 3s 30ms/step - loss: 2.2234 - accuracy: 0.4146 - val_loss: 2.4688 - val_accuracy: 0.3814\n",
            "Epoch 11/25\n",
            "98/98 [==============================] - 3s 30ms/step - loss: 2.1244 - accuracy: 0.4330 - val_loss: 2.3202 - val_accuracy: 0.4073\n",
            "Epoch 12/25\n",
            "98/98 [==============================] - 3s 30ms/step - loss: 2.0315 - accuracy: 0.4562 - val_loss: 2.5631 - val_accuracy: 0.3777\n",
            "Epoch 13/25\n",
            "98/98 [==============================] - 3s 30ms/step - loss: 1.9546 - accuracy: 0.4706 - val_loss: 2.1805 - val_accuracy: 0.4379\n",
            "Epoch 14/25\n",
            "98/98 [==============================] - 3s 30ms/step - loss: 1.8882 - accuracy: 0.4863 - val_loss: 2.0239 - val_accuracy: 0.4679\n",
            "Epoch 15/25\n",
            "98/98 [==============================] - 3s 30ms/step - loss: 1.8116 - accuracy: 0.5026 - val_loss: 2.1052 - val_accuracy: 0.4591\n",
            "Epoch 16/25\n",
            "98/98 [==============================] - 3s 30ms/step - loss: 1.7537 - accuracy: 0.5124 - val_loss: 2.0543 - val_accuracy: 0.4651\n",
            "Epoch 17/25\n",
            "98/98 [==============================] - 3s 30ms/step - loss: 1.6945 - accuracy: 0.5275 - val_loss: 2.0093 - val_accuracy: 0.4781\n",
            "Epoch 18/25\n",
            "98/98 [==============================] - 3s 30ms/step - loss: 1.6307 - accuracy: 0.5429 - val_loss: 2.1290 - val_accuracy: 0.4556\n",
            "Epoch 19/25\n",
            "98/98 [==============================] - 3s 30ms/step - loss: 1.5968 - accuracy: 0.5506 - val_loss: 2.1438 - val_accuracy: 0.4609\n",
            "Epoch 20/25\n",
            "98/98 [==============================] - 3s 30ms/step - loss: 1.5363 - accuracy: 0.5648 - val_loss: 2.1050 - val_accuracy: 0.4722\n",
            "Epoch 21/25\n",
            "98/98 [==============================] - 3s 30ms/step - loss: 1.5028 - accuracy: 0.5698 - val_loss: 2.0015 - val_accuracy: 0.4779\n",
            "Epoch 22/25\n",
            "98/98 [==============================] - 3s 30ms/step - loss: 1.4494 - accuracy: 0.5866 - val_loss: 2.1033 - val_accuracy: 0.4618\n",
            "Epoch 23/25\n",
            "98/98 [==============================] - 3s 30ms/step - loss: 1.4149 - accuracy: 0.5931 - val_loss: 1.9258 - val_accuracy: 0.4967\n",
            "Epoch 24/25\n",
            "98/98 [==============================] - 3s 30ms/step - loss: 1.3807 - accuracy: 0.5994 - val_loss: 1.9460 - val_accuracy: 0.4966\n",
            "Epoch 25/25\n",
            "98/98 [==============================] - 3s 30ms/step - loss: 1.3564 - accuracy: 0.6059 - val_loss: 2.0000 - val_accuracy: 0.4839\n"
          ]
        }
      ],
      "source": [
        "model_4_history = model_4.fit(trainX, trainY,\n",
        "                              batch_size=batch_size,\n",
        "                              epochs=epochs,\n",
        "                              verbose=1,\n",
        "                              validation_data=(testX, testY))"
      ]
    },
    {
      "cell_type": "markdown",
      "metadata": {
        "id": "Y7QF9bQh72eV"
      },
      "source": [
        "### Задание 5. Пойстройте график обучения для каждой модели. Сделайте выводы по каждому из них. Подведите итог и выделите наиболее удачную модель"
      ]
    },
    {
      "cell_type": "code",
      "execution_count": 14,
      "metadata": {
        "colab": {
          "base_uri": "https://localhost:8080/",
          "height": 887
        },
        "id": "HvqpPVoV72te",
        "outputId": "32c22a72-2388-40f2-f445-38856f94e5be"
      },
      "outputs": [
        {
          "data": {
            "image/png": "[encoded data removed]",
            "text/plain": [
              "<Figure size 1500x1000 with 4 Axes>"
            ]
          },
          "metadata": {},
          "output_type": "display_data"
        }
      ],
      "source": [
        "%matplotlib inline\n",
        "import matplotlib.pyplot as plt\n",
        "\n",
        "fig, (model1Plt, model2Plt, model3Plt, model4Plt) = plt.subplots(4, sharex=True)\n",
        "\n",
        "fig.set_figwidth(15)\n",
        "fig.set_figheight(10)\n",
        "\n",
        "model1Plt.set_title(\"Simple Model\")\n",
        "model1Plt.plot(model_1_history.history['accuracy'])\n",
        "model1Plt.plot(model_1_history.history['val_accuracy'])\n",
        "model1Plt.legend(['Simple Model Train', 'Simple Model Test'], loc=\"lower right\")\n",
        "\n",
        "model2Plt.set_title(\"Model with Batch Normalization\")\n",
        "model2Plt.plot(model_2_history.history['accuracy'])\n",
        "model2Plt.plot(model_2_history.history['val_accuracy'])\n",
        "model2Plt.legend(['Model with Batch Normalization Train', 'Model with Batch Normalization Test'], loc=\"lower right\")\n",
        "\n",
        "model3Plt.set_title(\"Model with Dropout\")\n",
        "model3Plt.plot(model_3_history.history['accuracy'])\n",
        "model3Plt.plot(model_3_history.history['val_accuracy'])\n",
        "model3Plt.legend(['Model with Dropout Train', 'Model with Dropout Test'], loc=\"lower right\")\n",
        "\n",
        "model4Plt.set_title(\"Model with Dropout and Batch\")\n",
        "model4Plt.plot(model_4_history.history['accuracy'])\n",
        "model4Plt.plot(model_4_history.history['val_accuracy'])\n",
        "_ = model4Plt.legend(['Model with Dropout and Batch Train', 'Model with Dropout and Batch Test'], loc=\"lower right\")\n"
      ]
    },
    {
      "attachments": {},
      "cell_type": "markdown",
      "metadata": {
        "id": "Ogg1lwqm9jKe"
      },
      "source": [
        "#### Ваши выводы\n",
        "\n",
        "Как видно из модели, из графиков, нормалищация батчами не значительно изменяет обучение и конечную точность модели. Dropout, а также Dropout совмещенный с нормализацией батчами значительно увеличивают эффективность модели, но в то же самое время увеличивают и количество эпох, необходимое для ее обучения"
      ]
    },
    {
      "attachments": {},
      "cell_type": "markdown",
      "metadata": {
        "id": "N9mdlVQc9jUb"
      },
      "source": [
        "#### Ваш итог\n",
        "\n",
        "Самую высокую точность показала модели использующая нормализацию батчами и Dropout, обучавшаяся в течение 25 эпох.\n",
        "\n",
        "Ее точность составила: 48.39%"
      ]
    }
  ],
  "metadata": {
    "accelerator": "GPU",
    "colab": {
      "provenance": []
    },
    "gpuClass": "standard",
    "kernelspec": {
      "display_name": "base",
      "language": "python",
      "name": "python3"
    },
    "language_info": {
      "codemirror_mode": {
        "name": "ipython",
        "version": 3
      },
      "file_extension": ".py",
      "mimetype": "text/x-python",
      "name": "python",
      "nbconvert_exporter": "python",
      "pygments_lexer": "ipython3",
      "version": "3.9.13"
    },
    "vscode": {
      "interpreter": {
        "hash": "ad2bdc8ecc057115af97d19610ffacc2b4e99fae6737bb82f5d7fb13d2f2c186"
      }
    }
  },
  "nbformat": 4,
  "nbformat_minor": 0
}
