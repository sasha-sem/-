{
  "cells": [
    {
      "cell_type": "markdown",
      "metadata": {
        "id": "5FTzd6Tr1HE6"
      },
      "source": [
        "# Построение сверточной нейронной сети для классификации изображений из датасета CIFAR-100, с использованием BatchNormalization() и Dropout()"
      ]
    },
    {
      "cell_type": "markdown",
      "metadata": {
        "id": "gdX9a26i5B-4"
      },
      "source": [
        "[Код с пары](https://colab.research.google.com/drive/1cvPrPI09ySQy-D92gKTzmanVi2cj5Gw_?usp=sharing)"
      ]
    },
    {
      "cell_type": "markdown",
      "metadata": {
        "id": "PegOFe6t0NPk"
      },
      "source": [
        "### Задание 1. Загрузите исходный датасет. Разделите его на обучающую и тестовую выборки. Визуализируйте несколько изображений из датасета. Произведите нормализацию данных. \n",
        "\n",
        "\n",
        "*P.S.: Не забудьте обратить внимание на размерность (shape) исходных данных и при необходимости измените её (см. примеры из предыдущих занятий)*\n",
        "\n",
        "[Информация о датасете в Kaggle](https://www.kaggle.com/datasets/fedesoriano/cifar100?resource=download&select=meta)\n",
        "\n",
        "[Техническая документация по использованию датасета в Keras](https://keras.io/api/datasets/cifar100/)\n",
        "\n",
        "\n",
        "\n"
      ]
    },
    {
      "cell_type": "code",
      "execution_count": 11,
      "metadata": {
        "colab": {
          "base_uri": "https://localhost:8080/"
        },
        "id": "SSerkZhqz-Zu",
        "outputId": "8649bf11-7cd0-4863-a7e4-573db255405a"
      },
      "outputs": [
        {
          "name": "stdout",
          "output_type": "stream",
          "text": [
            "Train: X =  (50000, 32, 32, 3)\n",
            "Train: Y =  (50000, 10)\n",
            "\n",
            "Test: X =  (10000, 32, 32, 3)\n",
            "Test: Y =  (10000, 10)\n"
          ]
        }
      ],
      "source": [
        "from tensorflow import keras\n",
        "\n",
        "(trainX, trainY), (testX, testY) = keras.datasets.cifar10.load_data()\n",
        "trainX = trainX.astype('float32') / 255\n",
        "testX = testX.astype('float32') / 255\n",
        "\n",
        "\n",
        "trainY = keras.utils.to_categorical(trainY, 10)\n",
        "testY = keras.utils.to_categorical(testY, 10)\n",
        "\n",
        "print('Train: X = ', trainX.shape)\n",
        "print('Train: Y = ', trainY.shape)\n",
        "print()\n",
        "print('Test: X = ', testX.shape)\n",
        "print('Test: Y = ', testY.shape)"
      ]
    },
    {
      "cell_type": "markdown",
      "metadata": {
        "id": "ne7OBLid0NY-"
      },
      "source": [
        "### Задание 2. Создайте модель сверточной нейронной сети для решения поставленной задачи без использования BatchNormalization() и Dropout(). \n",
        "\n",
        "Имя данной модели: model_1"
      ]
    },
    {
      "cell_type": "code",
      "execution_count": 30,
      "metadata": {
        "colab": {
          "base_uri": "https://localhost:8080/"
        },
        "id": "Gy0_n8G03kcU",
        "outputId": "986043f4-0273-4025-9188-b3b57abeb5e4"
      },
      "outputs": [
        {
          "name": "stdout",
          "output_type": "stream",
          "text": [
            "Model: \"sequential_10\"\n",
            "_________________________________________________________________\n",
            " Layer (type)                Output Shape              Param #   \n",
            "=================================================================\n",
            " conv2d_23 (Conv2D)          (None, 32, 32, 32)        896       \n",
            "                                                                 \n",
            " activation_6 (Activation)   (None, 32, 32, 32)        0         \n",
            "                                                                 \n",
            " conv2d_24 (Conv2D)          (None, 30, 30, 32)        9248      \n",
            "                                                                 \n",
            " activation_7 (Activation)   (None, 30, 30, 32)        0         \n",
            "                                                                 \n",
            " max_pooling2d_15 (MaxPoolin  (None, 15, 15, 32)       0         \n",
            " g2D)                                                            \n",
            "                                                                 \n",
            " conv2d_25 (Conv2D)          (None, 15, 15, 64)        18496     \n",
            "                                                                 \n",
            " activation_8 (Activation)   (None, 15, 15, 64)        0         \n",
            "                                                                 \n",
            " conv2d_26 (Conv2D)          (None, 13, 13, 64)        36928     \n",
            "                                                                 \n",
            " activation_9 (Activation)   (None, 13, 13, 64)        0         \n",
            "                                                                 \n",
            " max_pooling2d_16 (MaxPoolin  (None, 6, 6, 64)         0         \n",
            " g2D)                                                            \n",
            "                                                                 \n",
            " flatten_7 (Flatten)         (None, 2304)              0         \n",
            "                                                                 \n",
            " dense_24 (Dense)            (None, 512)               1180160   \n",
            "                                                                 \n",
            " activation_10 (Activation)  (None, 512)               0         \n",
            "                                                                 \n",
            " dense_25 (Dense)            (None, 10)                5130      \n",
            "                                                                 \n",
            " activation_11 (Activation)  (None, 10)                0         \n",
            "                                                                 \n",
            "=================================================================\n",
            "Total params: 1,250,858\n",
            "Trainable params: 1,250,858\n",
            "Non-trainable params: 0\n",
            "_________________________________________________________________\n"
          ]
        }
      ],
      "source": [
        "from keras.layers import Activation, BatchNormalization, Dropout, Conv2D, Dense, Flatten, MaxPooling2D\n",
        "from keras.models import Sequential\n",
        "\n",
        "model_1 = Sequential()\n",
        "model_1.add(Conv2D(32, (3, 3), padding='same',\n",
        "                 input_shape=(32, 32, 3)))\n",
        "model_1.add(Activation('relu'))\n",
        "model_1.add(Conv2D(32, (3, 3)))\n",
        "model_1.add(Activation('relu'))\n",
        "model_1.add(MaxPooling2D(pool_size=(2, 2)))\n",
        "\n",
        "model_1.add(Conv2D(64, (3, 3), padding='same'))\n",
        "model_1.add(Activation('relu'))\n",
        "model_1.add(Conv2D(64, (3, 3)))\n",
        "model_1.add(Activation('relu'))\n",
        "model_1.add(MaxPooling2D(pool_size=(2, 2)))\n",
        "\n",
        "model_1.add(Flatten())\n",
        "model_1.add(Dense(512))\n",
        "model_1.add(Activation('relu'))\n",
        "model_1.add(Dense(10))\n",
        "model_1.add(Activation('softmax'))\n",
        "\n",
        "model_1.compile(loss='categorical_crossentropy',\n",
        "              optimizer='adam',\n",
        "              metrics=['accuracy'])\n",
        "\n",
        "model_1.summary()"
      ]
    },
    {
      "cell_type": "markdown",
      "metadata": {
        "id": "69zrqqaA5kOd"
      },
      "source": [
        "Обучите созданную модель"
      ]
    },
    {
      "cell_type": "code",
      "execution_count": 31,
      "metadata": {
        "id": "6uBAnPDU5s5I"
      },
      "outputs": [],
      "source": [
        "batch_size = 128\n",
        "epochs = 10"
      ]
    },
    {
      "cell_type": "code",
      "execution_count": 32,
      "metadata": {
        "colab": {
          "base_uri": "https://localhost:8080/"
        },
        "id": "ZnOd5ZEG7-4w",
        "outputId": "1fbe8456-3494-4c4a-aaf9-5183e9b72107"
      },
      "outputs": [
        {
          "name": "stdout",
          "output_type": "stream",
          "text": [
            "Epoch 1/10\n",
            "391/391 [==============================] - 4s 9ms/step - loss: 1.4585 - accuracy: 0.4724 - val_loss: 1.1246 - val_accuracy: 0.5977\n",
            "Epoch 2/10\n",
            "391/391 [==============================] - 3s 7ms/step - loss: 1.0108 - accuracy: 0.6440 - val_loss: 0.9500 - val_accuracy: 0.6693\n",
            "Epoch 3/10\n",
            "391/391 [==============================] - 3s 8ms/step - loss: 0.8059 - accuracy: 0.7187 - val_loss: 0.8048 - val_accuracy: 0.7235\n",
            "Epoch 4/10\n",
            "391/391 [==============================] - 3s 7ms/step - loss: 0.6605 - accuracy: 0.7703 - val_loss: 0.7625 - val_accuracy: 0.7401\n",
            "Epoch 5/10\n",
            "391/391 [==============================] - 3s 7ms/step - loss: 0.5367 - accuracy: 0.8118 - val_loss: 0.7610 - val_accuracy: 0.7425\n",
            "Epoch 6/10\n",
            "391/391 [==============================] - 3s 7ms/step - loss: 0.4204 - accuracy: 0.8531 - val_loss: 0.7755 - val_accuracy: 0.7477\n",
            "Epoch 7/10\n",
            "391/391 [==============================] - 3s 7ms/step - loss: 0.3168 - accuracy: 0.8904 - val_loss: 0.8553 - val_accuracy: 0.7515\n",
            "Epoch 8/10\n",
            "391/391 [==============================] - 3s 7ms/step - loss: 0.2140 - accuracy: 0.9258 - val_loss: 0.9351 - val_accuracy: 0.7436\n",
            "Epoch 9/10\n",
            "391/391 [==============================] - 3s 7ms/step - loss: 0.1412 - accuracy: 0.9510 - val_loss: 1.0879 - val_accuracy: 0.7383\n",
            "Epoch 10/10\n",
            "391/391 [==============================] - 3s 7ms/step - loss: 0.1056 - accuracy: 0.9639 - val_loss: 1.1879 - val_accuracy: 0.7507\n"
          ]
        }
      ],
      "source": [
        "model_1_history = model_1.fit(trainX, trainY,\n",
        "                              batch_size=batch_size,\n",
        "                              epochs=epochs,\n",
        "                              verbose=1,\n",
        "                              validation_data=(testX, testY))"
      ]
    },
    {
      "cell_type": "markdown",
      "metadata": {
        "id": "07x5ciPl0Njy"
      },
      "source": [
        "### Задание 3. Создайте модель сверточной нейронной сети для решения поставленной задачи с использованием BatchNormalization(). \n",
        "\n",
        "Имя данной модели: model_2"
      ]
    },
    {
      "cell_type": "code",
      "execution_count": 50,
      "metadata": {
        "colab": {
          "base_uri": "https://localhost:8080/"
        },
        "id": "vy9H9gcJ3kzl",
        "outputId": "43ca257f-22c3-45f7-849f-af4b94422114"
      },
      "outputs": [
        {
          "name": "stdout",
          "output_type": "stream",
          "text": [
            "Model: \"sequential_16\"\n",
            "_________________________________________________________________\n",
            " Layer (type)                Output Shape              Param #   \n",
            "=================================================================\n",
            " conv2d_47 (Conv2D)          (None, 32, 32, 32)        896       \n",
            "                                                                 \n",
            " activation_42 (Activation)  (None, 32, 32, 32)        0         \n",
            "                                                                 \n",
            " conv2d_48 (Conv2D)          (None, 30, 30, 32)        9248      \n",
            "                                                                 \n",
            " activation_43 (Activation)  (None, 30, 30, 32)        0         \n",
            "                                                                 \n",
            " batch_normalization_14 (Bat  (None, 30, 30, 32)       128       \n",
            " chNormalization)                                                \n",
            "                                                                 \n",
            " max_pooling2d_27 (MaxPoolin  (None, 15, 15, 32)       0         \n",
            " g2D)                                                            \n",
            "                                                                 \n",
            " conv2d_49 (Conv2D)          (None, 15, 15, 64)        18496     \n",
            "                                                                 \n",
            " activation_44 (Activation)  (None, 15, 15, 64)        0         \n",
            "                                                                 \n",
            " batch_normalization_15 (Bat  (None, 15, 15, 64)       256       \n",
            " chNormalization)                                                \n",
            "                                                                 \n",
            " conv2d_50 (Conv2D)          (None, 13, 13, 64)        36928     \n",
            "                                                                 \n",
            " activation_45 (Activation)  (None, 13, 13, 64)        0         \n",
            "                                                                 \n",
            " batch_normalization_16 (Bat  (None, 13, 13, 64)       256       \n",
            " chNormalization)                                                \n",
            "                                                                 \n",
            " max_pooling2d_28 (MaxPoolin  (None, 6, 6, 64)         0         \n",
            " g2D)                                                            \n",
            "                                                                 \n",
            " flatten_13 (Flatten)        (None, 2304)              0         \n",
            "                                                                 \n",
            " dense_36 (Dense)            (None, 512)               1180160   \n",
            "                                                                 \n",
            " activation_46 (Activation)  (None, 512)               0         \n",
            "                                                                 \n",
            " batch_normalization_17 (Bat  (None, 512)              2048      \n",
            " chNormalization)                                                \n",
            "                                                                 \n",
            " dense_37 (Dense)            (None, 10)                5130      \n",
            "                                                                 \n",
            " activation_47 (Activation)  (None, 10)                0         \n",
            "                                                                 \n",
            "=================================================================\n",
            "Total params: 1,253,546\n",
            "Trainable params: 1,252,202\n",
            "Non-trainable params: 1,344\n",
            "_________________________________________________________________\n"
          ]
        }
      ],
      "source": [
        "model_2 = Sequential()\n",
        "model_2.add(Conv2D(32, (3, 3), padding='same',\n",
        "                 input_shape=(32, 32, 3)))\n",
        "model_2.add(Activation('relu'))\n",
        "model_2.add(Conv2D(32, (3, 3)))\n",
        "model_2.add(Activation('relu'))\n",
        "\n",
        "model_2.add(BatchNormalization())\n",
        "model_2.add(MaxPooling2D(pool_size=(2, 2)))\n",
        "\n",
        "model_2.add(Conv2D(64, (3, 3), padding='same'))\n",
        "model_2.add(Activation('relu'))\n",
        "model_2.add(BatchNormalization())\n",
        "model_2.add(Conv2D(64, (3, 3)))\n",
        "model_2.add(Activation('relu'))\n",
        "model_2.add(BatchNormalization())\n",
        "model_2.add(MaxPooling2D(pool_size=(2, 2)))\n",
        "\n",
        "model_2.add(Flatten())\n",
        "model_2.add(Dense(512))\n",
        "model_2.add(Activation('relu'))\n",
        "\n",
        "model_2.add(BatchNormalization())\n",
        "model_2.add(Dense(10))\n",
        "model_2.add(Activation('softmax'))\n",
        "\n",
        "model_2.compile(loss='categorical_crossentropy',\n",
        "              optimizer='adam',\n",
        "              metrics=['accuracy'])\n",
        "\n",
        "model_2.summary()"
      ]
    },
    {
      "cell_type": "markdown",
      "metadata": {
        "id": "7vrswF436DNo"
      },
      "source": [
        "Обучите созданную модель"
      ]
    },
    {
      "cell_type": "code",
      "execution_count": 51,
      "metadata": {
        "id": "2xOOok5l6DNo"
      },
      "outputs": [],
      "source": [
        "batch_size = 128\n",
        "epochs = 10"
      ]
    },
    {
      "cell_type": "code",
      "execution_count": 52,
      "metadata": {
        "colab": {
          "base_uri": "https://localhost:8080/"
        },
        "id": "KeBwRBvH3Xbe",
        "outputId": "1519a77c-bab4-4ac2-d12e-a8f352af160b"
      },
      "outputs": [
        {
          "name": "stdout",
          "output_type": "stream",
          "text": [
            "Epoch 1/10\n",
            "391/391 [==============================] - 4s 10ms/step - loss: 1.2635 - accuracy: 0.5641 - val_loss: 2.6715 - val_accuracy: 0.2667\n",
            "Epoch 2/10\n",
            "391/391 [==============================] - 6s 16ms/step - loss: 0.8037 - accuracy: 0.7191 - val_loss: 0.9157 - val_accuracy: 0.6903\n",
            "Epoch 3/10\n",
            "391/391 [==============================] - 7s 17ms/step - loss: 0.6042 - accuracy: 0.7899 - val_loss: 1.0245 - val_accuracy: 0.6620\n",
            "Epoch 4/10\n",
            "391/391 [==============================] - 7s 18ms/step - loss: 0.4561 - accuracy: 0.8421 - val_loss: 1.0946 - val_accuracy: 0.6733\n",
            "Epoch 5/10\n",
            "391/391 [==============================] - 7s 18ms/step - loss: 0.3126 - accuracy: 0.8948 - val_loss: 0.9413 - val_accuracy: 0.7238\n",
            "Epoch 6/10\n",
            "391/391 [==============================] - 4s 10ms/step - loss: 0.1967 - accuracy: 0.9357 - val_loss: 1.0671 - val_accuracy: 0.7138\n",
            "Epoch 7/10\n",
            "391/391 [==============================] - 4s 9ms/step - loss: 0.1320 - accuracy: 0.9572 - val_loss: 1.3088 - val_accuracy: 0.6738\n",
            "Epoch 8/10\n",
            "391/391 [==============================] - 4s 9ms/step - loss: 0.0842 - accuracy: 0.9752 - val_loss: 0.9592 - val_accuracy: 0.7570\n",
            "Epoch 9/10\n",
            "391/391 [==============================] - 4s 9ms/step - loss: 0.0720 - accuracy: 0.9783 - val_loss: 1.1156 - val_accuracy: 0.7335\n",
            "Epoch 10/10\n",
            "391/391 [==============================] - 4s 10ms/step - loss: 0.0710 - accuracy: 0.9772 - val_loss: 1.2031 - val_accuracy: 0.7283\n"
          ]
        }
      ],
      "source": [
        "model_2_history = model_2.fit(trainX, trainY,\n",
        "                              batch_size=batch_size,\n",
        "                              epochs=epochs,\n",
        "                              verbose=1,\n",
        "                              validation_data=(testX, testY))"
      ]
    },
    {
      "cell_type": "markdown",
      "metadata": {
        "id": "386TvloP3lJF"
      },
      "source": [
        "### Задание 4. Создайте модель сверточной нейронной сети для решения поставленной задачи с использованием Dropout(). \n",
        "\n",
        "Имя данной модели: model_3"
      ]
    },
    {
      "cell_type": "code",
      "execution_count": 43,
      "metadata": {
        "colab": {
          "base_uri": "https://localhost:8080/"
        },
        "id": "e-tkmz9d3lXx",
        "outputId": "263aa700-3af6-4106-98db-6a7f2aa0ce65"
      },
      "outputs": [
        {
          "name": "stdout",
          "output_type": "stream",
          "text": [
            "Model: \"sequential_14\"\n",
            "_________________________________________________________________\n",
            " Layer (type)                Output Shape              Param #   \n",
            "=================================================================\n",
            " conv2d_39 (Conv2D)          (None, 32, 32, 32)        896       \n",
            "                                                                 \n",
            " activation_30 (Activation)  (None, 32, 32, 32)        0         \n",
            "                                                                 \n",
            " conv2d_40 (Conv2D)          (None, 30, 30, 32)        9248      \n",
            "                                                                 \n",
            " activation_31 (Activation)  (None, 30, 30, 32)        0         \n",
            "                                                                 \n",
            " max_pooling2d_23 (MaxPoolin  (None, 15, 15, 32)       0         \n",
            " g2D)                                                            \n",
            "                                                                 \n",
            " dropout_10 (Dropout)        (None, 15, 15, 32)        0         \n",
            "                                                                 \n",
            " conv2d_41 (Conv2D)          (None, 15, 15, 64)        18496     \n",
            "                                                                 \n",
            " activation_32 (Activation)  (None, 15, 15, 64)        0         \n",
            "                                                                 \n",
            " conv2d_42 (Conv2D)          (None, 13, 13, 64)        36928     \n",
            "                                                                 \n",
            " activation_33 (Activation)  (None, 13, 13, 64)        0         \n",
            "                                                                 \n",
            " max_pooling2d_24 (MaxPoolin  (None, 6, 6, 64)         0         \n",
            " g2D)                                                            \n",
            "                                                                 \n",
            " dropout_11 (Dropout)        (None, 6, 6, 64)          0         \n",
            "                                                                 \n",
            " flatten_11 (Flatten)        (None, 2304)              0         \n",
            "                                                                 \n",
            " dense_32 (Dense)            (None, 512)               1180160   \n",
            "                                                                 \n",
            " activation_34 (Activation)  (None, 512)               0         \n",
            "                                                                 \n",
            " dropout_12 (Dropout)        (None, 512)               0         \n",
            "                                                                 \n",
            " dense_33 (Dense)            (None, 10)                5130      \n",
            "                                                                 \n",
            " activation_35 (Activation)  (None, 10)                0         \n",
            "                                                                 \n",
            "=================================================================\n",
            "Total params: 1,250,858\n",
            "Trainable params: 1,250,858\n",
            "Non-trainable params: 0\n",
            "_________________________________________________________________\n"
          ]
        }
      ],
      "source": [
        "model_3 = Sequential()\n",
        "model_3.add(Conv2D(32, (3, 3), padding='same',\n",
        "                 input_shape=(32, 32, 3)))\n",
        "model_3.add(Activation('relu'))\n",
        "model_3.add(Conv2D(32, (3, 3)))\n",
        "model_3.add(Activation('relu'))\n",
        "model_3.add(MaxPooling2D(pool_size=(2, 2)))\n",
        "model_3.add(Dropout(0.25))\n",
        "\n",
        "model_3.add(Conv2D(64, (3, 3), padding='same'))\n",
        "model_3.add(Activation('relu'))\n",
        "model_3.add(Conv2D(64, (3, 3)))\n",
        "model_3.add(Activation('relu'))\n",
        "model_3.add(MaxPooling2D(pool_size=(2, 2)))\n",
        "model_3.add(Dropout(0.25))\n",
        "\n",
        "model_3.add(Flatten())\n",
        "model_3.add(Dense(512))\n",
        "model_3.add(Activation('relu'))\n",
        "model_3.add(Dropout(0.5))\n",
        "model_3.add(Dense(10))\n",
        "model_3.add(Activation('softmax'))\n",
        "\n",
        "model_3.compile(loss='categorical_crossentropy',\n",
        "              optimizer='adam',\n",
        "              metrics=['accuracy'])\n",
        "\n",
        "model_3.summary()"
      ]
    },
    {
      "cell_type": "markdown",
      "metadata": {
        "id": "hehT-6re6RXv"
      },
      "source": [
        "Обучите созданную модель"
      ]
    },
    {
      "cell_type": "code",
      "execution_count": 44,
      "metadata": {
        "id": "c6HNFpOE6RXw"
      },
      "outputs": [],
      "source": [
        "batch_size = 128\n",
        "epochs = 20"
      ]
    },
    {
      "cell_type": "code",
      "execution_count": 45,
      "metadata": {
        "colab": {
          "base_uri": "https://localhost:8080/"
        },
        "id": "35O4U0Jr4Q8m",
        "outputId": "e800d6ac-3fcd-4663-db01-e42361a815f2"
      },
      "outputs": [
        {
          "name": "stdout",
          "output_type": "stream",
          "text": [
            "Epoch 1/20\n",
            "391/391 [==============================] - 4s 9ms/step - loss: 1.6267 - accuracy: 0.3990 - val_loss: 1.2620 - val_accuracy: 0.5448\n",
            "Epoch 2/20\n",
            "391/391 [==============================] - 3s 8ms/step - loss: 1.2154 - accuracy: 0.5671 - val_loss: 1.0527 - val_accuracy: 0.6221\n",
            "Epoch 3/20\n",
            "391/391 [==============================] - 3s 8ms/step - loss: 1.0483 - accuracy: 0.6312 - val_loss: 0.9257 - val_accuracy: 0.6735\n",
            "Epoch 4/20\n",
            "391/391 [==============================] - 3s 8ms/step - loss: 0.9327 - accuracy: 0.6712 - val_loss: 0.8877 - val_accuracy: 0.6866\n",
            "Epoch 5/20\n",
            "391/391 [==============================] - 3s 8ms/step - loss: 0.8531 - accuracy: 0.7020 - val_loss: 0.7851 - val_accuracy: 0.7286\n",
            "Epoch 6/20\n",
            "391/391 [==============================] - 3s 8ms/step - loss: 0.7899 - accuracy: 0.7211 - val_loss: 0.7713 - val_accuracy: 0.7349\n",
            "Epoch 7/20\n",
            "391/391 [==============================] - 3s 8ms/step - loss: 0.7375 - accuracy: 0.7427 - val_loss: 0.7073 - val_accuracy: 0.7553\n",
            "Epoch 8/20\n",
            "391/391 [==============================] - 3s 8ms/step - loss: 0.6874 - accuracy: 0.7580 - val_loss: 0.7022 - val_accuracy: 0.7582\n",
            "Epoch 9/20\n",
            "391/391 [==============================] - 3s 8ms/step - loss: 0.6513 - accuracy: 0.7710 - val_loss: 0.6880 - val_accuracy: 0.7622\n",
            "Epoch 10/20\n",
            "391/391 [==============================] - 3s 8ms/step - loss: 0.6188 - accuracy: 0.7823 - val_loss: 0.6466 - val_accuracy: 0.7794\n",
            "Epoch 11/20\n",
            "391/391 [==============================] - 3s 8ms/step - loss: 0.5886 - accuracy: 0.7932 - val_loss: 0.6542 - val_accuracy: 0.7753\n",
            "Epoch 12/20\n",
            "391/391 [==============================] - 3s 8ms/step - loss: 0.5613 - accuracy: 0.8007 - val_loss: 0.6406 - val_accuracy: 0.7844\n",
            "Epoch 13/20\n",
            "391/391 [==============================] - 3s 8ms/step - loss: 0.5351 - accuracy: 0.8119 - val_loss: 0.6113 - val_accuracy: 0.7932\n",
            "Epoch 14/20\n",
            "391/391 [==============================] - 3s 8ms/step - loss: 0.5113 - accuracy: 0.8188 - val_loss: 0.6237 - val_accuracy: 0.7900\n",
            "Epoch 15/20\n",
            "391/391 [==============================] - 3s 8ms/step - loss: 0.4965 - accuracy: 0.8249 - val_loss: 0.6316 - val_accuracy: 0.7909\n",
            "Epoch 16/20\n",
            "391/391 [==============================] - 3s 8ms/step - loss: 0.4771 - accuracy: 0.8303 - val_loss: 0.6154 - val_accuracy: 0.7948\n",
            "Epoch 17/20\n",
            "391/391 [==============================] - 3s 8ms/step - loss: 0.4589 - accuracy: 0.8366 - val_loss: 0.6450 - val_accuracy: 0.7884\n",
            "Epoch 18/20\n",
            "391/391 [==============================] - 3s 8ms/step - loss: 0.4430 - accuracy: 0.8410 - val_loss: 0.6152 - val_accuracy: 0.7943\n",
            "Epoch 19/20\n",
            "391/391 [==============================] - 3s 8ms/step - loss: 0.4287 - accuracy: 0.8472 - val_loss: 0.5996 - val_accuracy: 0.7999\n",
            "Epoch 20/20\n",
            "391/391 [==============================] - 3s 8ms/step - loss: 0.4110 - accuracy: 0.8545 - val_loss: 0.6292 - val_accuracy: 0.7939\n"
          ]
        }
      ],
      "source": [
        "model_3_history = model_3.fit(trainX, trainY,\n",
        "                              batch_size=batch_size,\n",
        "                              epochs=epochs,\n",
        "                              verbose=1,\n",
        "                              validation_data=(testX, testY))"
      ]
    },
    {
      "cell_type": "markdown",
      "metadata": {
        "id": "qz2qhKtu7Jgf"
      },
      "source": [
        "### Задание 5. Создайте модель сверточной нейронной сети для решения поставленной задачи с использованием Dropout() и BatchNormalization().\n",
        "\n",
        "См. рекомендации [здесь](https://stackoverflow.com/questions/39691902/ordering-of-batch-normalization-and-dropout) и [здесь](https://www.kaggle.com/code/ryanholbrook/dropout-and-batch-normalization/)\n",
        "\n",
        "Имя данной модели: model_4"
      ]
    },
    {
      "cell_type": "code",
      "execution_count": 46,
      "metadata": {
        "colab": {
          "base_uri": "https://localhost:8080/"
        },
        "id": "dVuNM8lI7Jgo",
        "outputId": "b6fb0c78-6bee-4c98-e931-b755cb2846ad"
      },
      "outputs": [
        {
          "name": "stdout",
          "output_type": "stream",
          "text": [
            "Model: \"sequential_15\"\n",
            "_________________________________________________________________\n",
            " Layer (type)                Output Shape              Param #   \n",
            "=================================================================\n",
            " conv2d_43 (Conv2D)          (None, 32, 32, 32)        896       \n",
            "                                                                 \n",
            " activation_36 (Activation)  (None, 32, 32, 32)        0         \n",
            "                                                                 \n",
            " conv2d_44 (Conv2D)          (None, 30, 30, 32)        9248      \n",
            "                                                                 \n",
            " activation_37 (Activation)  (None, 30, 30, 32)        0         \n",
            "                                                                 \n",
            " batch_normalization_11 (Bat  (None, 30, 30, 32)       128       \n",
            " chNormalization)                                                \n",
            "                                                                 \n",
            " max_pooling2d_25 (MaxPoolin  (None, 15, 15, 32)       0         \n",
            " g2D)                                                            \n",
            "                                                                 \n",
            " dropout_13 (Dropout)        (None, 15, 15, 32)        0         \n",
            "                                                                 \n",
            " conv2d_45 (Conv2D)          (None, 15, 15, 64)        18496     \n",
            "                                                                 \n",
            " activation_38 (Activation)  (None, 15, 15, 64)        0         \n",
            "                                                                 \n",
            " batch_normalization_12 (Bat  (None, 15, 15, 64)       256       \n",
            " chNormalization)                                                \n",
            "                                                                 \n",
            " conv2d_46 (Conv2D)          (None, 13, 13, 64)        36928     \n",
            "                                                                 \n",
            " activation_39 (Activation)  (None, 13, 13, 64)        0         \n",
            "                                                                 \n",
            " batch_normalization_13 (Bat  (None, 13, 13, 64)       256       \n",
            " chNormalization)                                                \n",
            "                                                                 \n",
            " max_pooling2d_26 (MaxPoolin  (None, 6, 6, 64)         0         \n",
            " g2D)                                                            \n",
            "                                                                 \n",
            " dropout_14 (Dropout)        (None, 6, 6, 64)          0         \n",
            "                                                                 \n",
            " flatten_12 (Flatten)        (None, 2304)              0         \n",
            "                                                                 \n",
            " dense_34 (Dense)            (None, 512)               1180160   \n",
            "                                                                 \n",
            " activation_40 (Activation)  (None, 512)               0         \n",
            "                                                                 \n",
            " dropout_15 (Dropout)        (None, 512)               0         \n",
            "                                                                 \n",
            " dense_35 (Dense)            (None, 10)                5130      \n",
            "                                                                 \n",
            " activation_41 (Activation)  (None, 10)                0         \n",
            "                                                                 \n",
            "=================================================================\n",
            "Total params: 1,251,498\n",
            "Trainable params: 1,251,178\n",
            "Non-trainable params: 320\n",
            "_________________________________________________________________\n"
          ]
        }
      ],
      "source": [
        "model_4 = Sequential()\n",
        "model_4.add(Conv2D(32, (3, 3), padding='same',\n",
        "                 input_shape=(32, 32, 3)))\n",
        "model_4.add(Activation('relu'))\n",
        "model_4.add(Conv2D(32, (3, 3)))\n",
        "model_4.add(Activation('relu'))\n",
        "\n",
        "model_4.add(BatchNormalization())\n",
        "model_4.add(MaxPooling2D(pool_size=(2, 2)))\n",
        "model_4.add(Dropout(0.25))\n",
        "\n",
        "model_4.add(Conv2D(64, (3, 3), padding='same'))\n",
        "model_4.add(Activation('relu'))\n",
        "model_4.add(BatchNormalization())\n",
        "model_4.add(Conv2D(64, (3, 3)))\n",
        "model_4.add(Activation('relu'))\n",
        "model_4.add(BatchNormalization())\n",
        "model_4.add(MaxPooling2D(pool_size=(2, 2)))\n",
        "model_4.add(Dropout(0.25))\n",
        "\n",
        "model_4.add(Flatten())\n",
        "\n",
        "model_4.add(Dense(512))\n",
        "model_4.add(Activation('relu'))\n",
        "\n",
        "model_4.add(Dropout(0.5))\n",
        "model_4.add(Dense(10))\n",
        "model_4.add(Activation('softmax'))\n",
        "\n",
        "model_4.compile(loss='categorical_crossentropy',\n",
        "              optimizer='adam',\n",
        "              metrics=['accuracy'])\n",
        "\n",
        "model_4.summary()"
      ]
    },
    {
      "cell_type": "markdown",
      "metadata": {
        "id": "nES6ENxq7Jgp"
      },
      "source": [
        "Обучите созданную модель"
      ]
    },
    {
      "cell_type": "code",
      "execution_count": 47,
      "metadata": {
        "id": "SWIPC22-7Jgp"
      },
      "outputs": [],
      "source": [
        "batch_size = 512\n",
        "epochs = 25"
      ]
    },
    {
      "cell_type": "code",
      "execution_count": 48,
      "metadata": {
        "colab": {
          "base_uri": "https://localhost:8080/"
        },
        "id": "DXx5nRr18VUO",
        "outputId": "4e7c7d6e-641a-43f7-d768-fe88c8aff4d2"
      },
      "outputs": [
        {
          "name": "stdout",
          "output_type": "stream",
          "text": [
            "Epoch 1/25\n",
            "98/98 [==============================] - 4s 32ms/step - loss: 1.9343 - accuracy: 0.3718 - val_loss: 3.8312 - val_accuracy: 0.1281\n",
            "Epoch 2/25\n",
            "98/98 [==============================] - 3s 32ms/step - loss: 1.3797 - accuracy: 0.5031 - val_loss: 3.3545 - val_accuracy: 0.1386\n",
            "Epoch 3/25\n",
            "98/98 [==============================] - 4s 36ms/step - loss: 1.2002 - accuracy: 0.5735 - val_loss: 3.0370 - val_accuracy: 0.2218\n",
            "Epoch 4/25\n",
            "98/98 [==============================] - 4s 36ms/step - loss: 1.0601 - accuracy: 0.6229 - val_loss: 2.9666 - val_accuracy: 0.2312\n",
            "Epoch 5/25\n",
            "98/98 [==============================] - 4s 38ms/step - loss: 0.9521 - accuracy: 0.6617 - val_loss: 1.4582 - val_accuracy: 0.5117\n",
            "Epoch 6/25\n",
            "98/98 [==============================] - 4s 37ms/step - loss: 0.8716 - accuracy: 0.6939 - val_loss: 0.9410 - val_accuracy: 0.6710\n",
            "Epoch 7/25\n",
            "98/98 [==============================] - 4s 36ms/step - loss: 0.8001 - accuracy: 0.7169 - val_loss: 0.8034 - val_accuracy: 0.7174\n",
            "Epoch 8/25\n",
            "98/98 [==============================] - 4s 36ms/step - loss: 0.7545 - accuracy: 0.7344 - val_loss: 0.7377 - val_accuracy: 0.7428\n",
            "Epoch 9/25\n",
            "98/98 [==============================] - 4s 37ms/step - loss: 0.7042 - accuracy: 0.7509 - val_loss: 0.7507 - val_accuracy: 0.7362\n",
            "Epoch 10/25\n",
            "98/98 [==============================] - 4s 37ms/step - loss: 0.6570 - accuracy: 0.7681 - val_loss: 0.8526 - val_accuracy: 0.7240\n",
            "Epoch 11/25\n",
            "98/98 [==============================] - 4s 38ms/step - loss: 0.6178 - accuracy: 0.7803 - val_loss: 0.6853 - val_accuracy: 0.7639\n",
            "Epoch 12/25\n",
            "98/98 [==============================] - 4s 37ms/step - loss: 0.5953 - accuracy: 0.7893 - val_loss: 0.7701 - val_accuracy: 0.7449\n",
            "Epoch 13/25\n",
            "98/98 [==============================] - 4s 37ms/step - loss: 0.5590 - accuracy: 0.8000 - val_loss: 0.6971 - val_accuracy: 0.7668\n",
            "Epoch 14/25\n",
            "98/98 [==============================] - 4s 37ms/step - loss: 0.5339 - accuracy: 0.8109 - val_loss: 0.6645 - val_accuracy: 0.7745\n",
            "Epoch 15/25\n",
            "98/98 [==============================] - 4s 37ms/step - loss: 0.5141 - accuracy: 0.8164 - val_loss: 0.6205 - val_accuracy: 0.7875\n",
            "Epoch 16/25\n",
            "98/98 [==============================] - 4s 37ms/step - loss: 0.4896 - accuracy: 0.8253 - val_loss: 0.7747 - val_accuracy: 0.7505\n",
            "Epoch 17/25\n",
            "98/98 [==============================] - 4s 36ms/step - loss: 0.4605 - accuracy: 0.8371 - val_loss: 0.6156 - val_accuracy: 0.7905\n",
            "Epoch 18/25\n",
            "98/98 [==============================] - 4s 37ms/step - loss: 0.4388 - accuracy: 0.8447 - val_loss: 0.7052 - val_accuracy: 0.7814\n",
            "Epoch 19/25\n",
            "98/98 [==============================] - 4s 37ms/step - loss: 0.4251 - accuracy: 0.8481 - val_loss: 0.7816 - val_accuracy: 0.7674\n",
            "Epoch 20/25\n",
            "98/98 [==============================] - 4s 39ms/step - loss: 0.4065 - accuracy: 0.8551 - val_loss: 0.6831 - val_accuracy: 0.7683\n",
            "Epoch 21/25\n",
            "98/98 [==============================] - 3s 31ms/step - loss: 0.3928 - accuracy: 0.8584 - val_loss: 0.6260 - val_accuracy: 0.7893\n",
            "Epoch 22/25\n",
            "98/98 [==============================] - 3s 30ms/step - loss: 0.3731 - accuracy: 0.8661 - val_loss: 0.6644 - val_accuracy: 0.7798\n",
            "Epoch 23/25\n",
            "98/98 [==============================] - 3s 30ms/step - loss: 0.3606 - accuracy: 0.8697 - val_loss: 0.6069 - val_accuracy: 0.7982\n",
            "Epoch 24/25\n",
            "98/98 [==============================] - 3s 30ms/step - loss: 0.3419 - accuracy: 0.8774 - val_loss: 0.6122 - val_accuracy: 0.7947\n",
            "Epoch 25/25\n",
            "98/98 [==============================] - 3s 30ms/step - loss: 0.3371 - accuracy: 0.8778 - val_loss: 0.5831 - val_accuracy: 0.8085\n"
          ]
        }
      ],
      "source": [
        "model_4_history = model_4.fit(trainX, trainY,\n",
        "                              batch_size=batch_size,\n",
        "                              epochs=epochs,\n",
        "                              verbose=1,\n",
        "                              validation_data=(testX, testY))"
      ]
    },
    {
      "cell_type": "markdown",
      "metadata": {
        "id": "Y7QF9bQh72eV"
      },
      "source": [
        "### Задание 5. Пойстройте график обучения для каждой модели. Сделайте выводы по каждому из них. Подведите итог и выделите наиболее удачную модель"
      ]
    },
    {
      "cell_type": "code",
      "execution_count": 57,
      "metadata": {
        "colab": {
          "base_uri": "https://localhost:8080/",
          "height": 887
        },
        "id": "HvqpPVoV72te",
        "outputId": "32c22a72-2388-40f2-f445-38856f94e5be"
      },
      "outputs": [
        {
          "data": {
            "image/png": "[encoded data removed]",
            "text/plain": [
              "<Figure size 1500x1000 with 4 Axes>"
            ]
          },
          "metadata": {},
          "output_type": "display_data"
        }
      ],
      "source": [
        "%matplotlib inline\n",
        "import matplotlib.pyplot as plt\n",
        "\n",
        "fig, (model1Plt, model2Plt, model3Plt, model4Plt) = plt.subplots(4, sharex=True)\n",
        "\n",
        "fig.set_figwidth(15)\n",
        "fig.set_figheight(10)\n",
        "\n",
        "model1Plt.set_title(\"Simple Model\")\n",
        "model1Plt.plot(model_1_history.history['accuracy'])\n",
        "model1Plt.plot(model_1_history.history['val_accuracy'])\n",
        "model1Plt.legend(['Simple Model Train', 'Simple Model Test'], loc=\"lower right\")\n",
        "\n",
        "model2Plt.set_title(\"Model with Batch Normalization\")\n",
        "model2Plt.plot(model_2_history.history['accuracy'])\n",
        "model2Plt.plot(model_2_history.history['val_accuracy'])\n",
        "model2Plt.legend(['Model with Batch Normalization Train', 'Model with Batch Normalization Test'], loc=\"lower right\")\n",
        "\n",
        "model3Plt.set_title(\"Model with Dropout\")\n",
        "model3Plt.plot(model_3_history.history['accuracy'])\n",
        "model3Plt.plot(model_3_history.history['val_accuracy'])\n",
        "model3Plt.legend(['Model with Dropout Train', 'Model with Dropout Test'], loc=\"lower right\")\n",
        "\n",
        "model4Plt.set_title(\"Model with Dropout and Batch\")\n",
        "model4Plt.plot(model_4_history.history['accuracy'])\n",
        "model4Plt.plot(model_4_history.history['val_accuracy'])\n",
        "_ = model4Plt.legend(['Model with Dropout and Batch Train', 'Model with Dropout and Batch Test'], loc=\"lower right\")\n"
      ]
    },
    {
      "attachments": {},
      "cell_type": "markdown",
      "metadata": {
        "id": "Ogg1lwqm9jKe"
      },
      "source": [
        "#### Ваши выводы\n",
        "\n",
        "Как видно из модели, из графиков, нормалищация батчами не значительно изменяет обучение и конечную точность модели. Dropout, а также Dropout совмещенный с нормализацией батчами значительно увеличивают эффективность модели, но в то же самое время увеличивают и количество эпох, необходимое для ее обучения"
      ]
    },
    {
      "attachments": {},
      "cell_type": "markdown",
      "metadata": {
        "id": "N9mdlVQc9jUb"
      },
      "source": [
        "#### Ваш итог\n",
        "\n",
        "Самую высокую точность показала модели использующая нормализацию батчами и Dropout, обучавшаяся в течение 25 эпох.\n",
        "\n",
        "Ее точность составила: 80.85%"
      ]
    }
  ],
  "metadata": {
    "accelerator": "GPU",
    "colab": {
      "provenance": []
    },
    "gpuClass": "standard",
    "kernelspec": {
      "display_name": "Python 3",
      "name": "python3"
    },
    "language_info": {
      "codemirror_mode": {
        "name": "ipython",
        "version": 3
      },
      "file_extension": ".py",
      "mimetype": "text/x-python",
      "name": "python",
      "nbconvert_exporter": "python",
      "pygments_lexer": "ipython3",
      "version": "3.9.13"
    }
  },
  "nbformat": 4,
  "nbformat_minor": 0
}
