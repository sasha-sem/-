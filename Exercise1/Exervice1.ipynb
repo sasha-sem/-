{
  "nbformat": 4,
  "nbformat_minor": 0,
  "metadata": {
    "colab": {
      "provenance": [],
      "collapsed_sections": [
        "L-h2IMUs2Nux"
      ]
    },
    "kernelspec": {
      "name": "python3",
      "display_name": "Python 3"
    },
    "language_info": {
      "name": "python"
    }
  },
  "cells": [
    {
      "cell_type": "markdown",
      "source": [
        "# Практическая работа №1\n",
        "Построение простой нейросети в среде Google Colaboratory на языке программирования Python. Обучение базовой модели."
      ],
      "metadata": {
        "id": "FQmugyQ9jZe_"
      }
    },
    {
      "cell_type": "markdown",
      "source": [
        "## Задание №1\n",
        "Напишите функцию, которая присваивает w1 и w2 случайные веса"
      ],
      "metadata": {
        "id": "zowwY1QJji7T"
      }
    },
    {
      "cell_type": "code",
      "execution_count": null,
      "metadata": {
        "id": "rAb5mWZEirs0"
      },
      "outputs": [],
      "source": [
        "from random import randint\n",
        "def getStartingWeights(number):\n",
        "  return [randint(0, 100)/100 for _ in range(number)]"
      ]
    },
    {
      "cell_type": "markdown",
      "source": [
        "Имортируем функцию randint из пакета random, и воспользуемся им для генерации случайных весов"
      ],
      "metadata": {
        "id": "PtWoQZQJkWvO"
      }
    },
    {
      "cell_type": "markdown",
      "source": [
        "## Задание №2\n",
        "Напишите функцию, которая делает проверку сразу всех примеров учебного набора с текущими весами"
      ],
      "metadata": {
        "id": "-ouFMpPAkq_C"
      }
    },
    {
      "cell_type": "markdown",
      "source": [
        "Функия предсказания по входным данным и весам"
      ],
      "metadata": {
        "id": "4yZ5zVoxmhyW"
      }
    },
    {
      "cell_type": "code",
      "source": [
        "def predict(x, w):\n",
        "  summator = sum(a*b for a, b in list(zip(x, w))) # Считаем сумму произведений\n",
        "  act = 1 if summator >= 1 else 0\n",
        "  return act"
      ],
      "metadata": {
        "id": "E4d7Oc3oltvQ"
      },
      "execution_count": null,
      "outputs": []
    },
    {
      "cell_type": "markdown",
      "source": [
        "Функция для проверки набора "
      ],
      "metadata": {
        "id": "s7wtI91cm2c5"
      }
    },
    {
      "cell_type": "code",
      "source": [
        "def test(x_collection, y_collection, w, predictFunc):\n",
        "  error_count = 0\n",
        "  for i, x in enumerate(x_collection) :\n",
        "    predcited = predictFunc(x, w)\n",
        "    print(f'x={x}; predicted value: {predcited}; expected value: {y_collection[i]}; predicition is right: {predcited==y_collection[i]};' )\n",
        "    if predcited != y_collection[i]:\n",
        "      error_count += 1 \n",
        "  print(f'errors number: {error_count}')"
      ],
      "metadata": {
        "id": "XUX-8YfSnAu7"
      },
      "execution_count": null,
      "outputs": []
    },
    {
      "cell_type": "markdown",
      "source": [
        "Функция для обучения"
      ],
      "metadata": {
        "id": "MRufMy_hoRGi"
      }
    },
    {
      "cell_type": "code",
      "source": [
        "def train(x_train, y_train, w, predictFunc, epoches_number, speed):\n",
        "  for _ in range(epoches_number):\n",
        "    for i in range(len(x_train)):\n",
        "      error = y_train[i] - predictFunc(x_train[i], w)\n",
        "      if error !=0:\n",
        "        for j in range(len(w)):\n",
        "          w[j] = w[j] + error * x_train[i][j] * speed"
      ],
      "metadata": {
        "id": "2wfWRDguoWCk"
      },
      "execution_count": null,
      "outputs": []
    },
    {
      "cell_type": "markdown",
      "source": [
        "## Задание №3\n",
        "Со случайными стартовыми весами обучить нейрон дельта методом для данных операций "
      ],
      "metadata": {
        "id": "PoxoQ2OFpupA"
      }
    },
    {
      "cell_type": "markdown",
      "source": [
        "### Конъюнкция\n"
      ],
      "metadata": {
        "id": "ZjLOncDTrVgA"
      }
    },
    {
      "cell_type": "markdown",
      "source": [
        "Зададим тренировочные и проверочные наборы и случайные веса, проверим"
      ],
      "metadata": {
        "id": "meVVZywot-M3"
      }
    },
    {
      "cell_type": "code",
      "source": [
        "x_train = [[1, 1], [1, 0], [0, 1], [0, 0]]\n",
        "y_train = [1, 0, 0, 0]\n",
        "w = getStartingWeights(2)\n",
        "print(f'Исходные веса: {w}')\n",
        "print(\"Проверка до обучения:\")\n",
        "test(x_train, y_train, w, predict)"
      ],
      "metadata": {
        "colab": {
          "base_uri": "https://localhost:8080/"
        },
        "id": "ok8UaDHyrt6x",
        "outputId": "a2e6b0f9-70a8-4da0-ac9f-8db7ac5892a1"
      },
      "execution_count": null,
      "outputs": [
        {
          "output_type": "stream",
          "name": "stdout",
          "text": [
            "Исходные веса: [0.2, 0.36]\n",
            "Проверка до обучения:\n",
            "x=[1, 1]; predicted value: 0; expected value: 1; predicition is right: False;\n",
            "x=[1, 0]; predicted value: 0; expected value: 0; predicition is right: True;\n",
            "x=[0, 1]; predicted value: 0; expected value: 0; predicition is right: True;\n",
            "x=[0, 0]; predicted value: 0; expected value: 0; predicition is right: True;\n",
            "errors number: 1\n"
          ]
        }
      ]
    },
    {
      "cell_type": "markdown",
      "source": [
        "Обучим нейрон для повышения точности, со скоростью 0.3"
      ],
      "metadata": {
        "id": "n7_0v86Fu-FE"
      }
    },
    {
      "cell_type": "code",
      "source": [
        "train(x_train, y_train, w, predict, epoches_number=2, speed=0.3)\n",
        "print(f'Веса после обучения: {w}')\n",
        "print(\"Проверка после обучения:\")\n",
        "test(x_train, y_train, w, predict)\n"
      ],
      "metadata": {
        "colab": {
          "base_uri": "https://localhost:8080/"
        },
        "id": "tD6Wp7fRvQ_B",
        "outputId": "fb2ee605-d037-4bb4-c837-46908e2f843c"
      },
      "execution_count": null,
      "outputs": [
        {
          "output_type": "stream",
          "name": "stdout",
          "text": [
            "Веса после обучения: [0.5, 0.6599999999999999]\n",
            "Проверка после обучения:\n",
            "x=[1, 1]; predicted value: 1; expected value: 1; predicition is right: True;\n",
            "x=[1, 0]; predicted value: 0; expected value: 0; predicition is right: True;\n",
            "x=[0, 1]; predicted value: 0; expected value: 0; predicition is right: True;\n",
            "x=[0, 0]; predicted value: 0; expected value: 0; predicition is right: True;\n",
            "errors number: 0\n"
          ]
        }
      ]
    },
    {
      "cell_type": "markdown",
      "source": [
        "Опытным путем было получено, что двух эпох достаточно для получения 100% точности"
      ],
      "metadata": {
        "id": "ULpltCBdv19W"
      }
    },
    {
      "cell_type": "markdown",
      "source": [
        "### Дизъюнкция\n"
      ],
      "metadata": {
        "id": "vLGrBhzNxSxr"
      }
    },
    {
      "cell_type": "markdown",
      "source": [
        "Зададим тренировочные и проверочные наборы и случайные веса, проверим"
      ],
      "metadata": {
        "id": "XCuN3jZoxSxx"
      }
    },
    {
      "cell_type": "code",
      "source": [
        "x_train = [[1, 1], [1, 0], [0, 1], [0, 0]]\n",
        "y_train = [1, 1, 1, 0]\n",
        "w =  getStartingWeights(2)\n",
        "print(f'Исходные веса: {w}')\n",
        "print(\"Проверка до обучения:\")\n",
        "test(x_train, y_train, w, predict)"
      ],
      "metadata": {
        "colab": {
          "base_uri": "https://localhost:8080/"
        },
        "outputId": "638a20a4-1268-471e-8d1f-285d17968943",
        "id": "CkX5xr0kxSxx"
      },
      "execution_count": null,
      "outputs": [
        {
          "output_type": "stream",
          "name": "stdout",
          "text": [
            "Исходные веса: [0.69, 0.13]\n",
            "Проверка до обучения:\n",
            "x=[1, 1]; predicted value: 0; expected value: 1; predicition is right: False;\n",
            "x=[1, 0]; predicted value: 0; expected value: 1; predicition is right: False;\n",
            "x=[0, 1]; predicted value: 0; expected value: 1; predicition is right: False;\n",
            "x=[0, 0]; predicted value: 0; expected value: 0; predicition is right: True;\n",
            "errors number: 3\n"
          ]
        }
      ]
    },
    {
      "cell_type": "markdown",
      "source": [
        "Обучим нейрон для повышения точности, со скоростью 0.3"
      ],
      "metadata": {
        "id": "GwU-KRSWxSxx"
      }
    },
    {
      "cell_type": "code",
      "source": [
        "train(x_train, y_train, w, predict, epoches_number=3, speed=0.3)\n",
        "print(f'Веса после обучения: {w}')\n",
        "print(\"Проверка после обучения:\")\n",
        "test(x_train, y_train, w, predict)\n"
      ],
      "metadata": {
        "colab": {
          "base_uri": "https://localhost:8080/"
        },
        "outputId": "88240eb5-c968-4560-d901-147e04c2c121",
        "id": "diyvcgOsxSxx"
      },
      "execution_count": null,
      "outputs": [
        {
          "output_type": "stream",
          "name": "stdout",
          "text": [
            "Веса после обучения: [1.29, 1.03]\n",
            "Проверка после обучения:\n",
            "x=[1, 1]; predicted value: 1; expected value: 1; predicition is right: True;\n",
            "x=[1, 0]; predicted value: 1; expected value: 1; predicition is right: True;\n",
            "x=[0, 1]; predicted value: 1; expected value: 1; predicition is right: True;\n",
            "x=[0, 0]; predicted value: 0; expected value: 0; predicition is right: True;\n",
            "errors number: 0\n"
          ]
        }
      ]
    },
    {
      "cell_type": "markdown",
      "source": [
        "Опытным путем было получено, что трех эпох достаточно для получения 100% точности"
      ],
      "metadata": {
        "id": "BkmUbEYcxSxy"
      }
    },
    {
      "cell_type": "markdown",
      "source": [
        "### XOR\n"
      ],
      "metadata": {
        "id": "Y6jHoViMx9Wq"
      }
    },
    {
      "cell_type": "markdown",
      "source": [
        "Зададим тренировочные и проверочные наборы и случайные веса, проверим"
      ],
      "metadata": {
        "id": "4cb1MMBKx9Ww"
      }
    },
    {
      "cell_type": "code",
      "source": [
        "x_train = [[1, 1], [1, 0], [0, 1], [0, 0]]\n",
        "y_train = [0, 1, 1, 0]\n",
        "w = getStartingWeights(2)\n",
        "print(f'Исходные веса: {w}')\n",
        "print(\"Проверка до обучения:\")\n",
        "test(x_train, y_train, w, predict)"
      ],
      "metadata": {
        "colab": {
          "base_uri": "https://localhost:8080/"
        },
        "outputId": "97761b2d-99e2-4c35-ecf6-9a566d512b41",
        "id": "fGZJdE4hx9Wx"
      },
      "execution_count": null,
      "outputs": [
        {
          "output_type": "stream",
          "name": "stdout",
          "text": [
            "Исходные веса: [0.54, 0.32]\n",
            "Проверка до обучения:\n",
            "x=[1, 1]; predicted value: 0; expected value: 0; predicition is right: True;\n",
            "x=[1, 0]; predicted value: 0; expected value: 1; predicition is right: False;\n",
            "x=[0, 1]; predicted value: 0; expected value: 1; predicition is right: False;\n",
            "x=[0, 0]; predicted value: 0; expected value: 0; predicition is right: True;\n",
            "errors number: 2\n"
          ]
        }
      ]
    },
    {
      "cell_type": "markdown",
      "source": [
        "Обучим нейрон для повышения точности, со скоростью 0.3"
      ],
      "metadata": {
        "id": "6V8Z412Ix9Wx"
      }
    },
    {
      "cell_type": "code",
      "source": [
        "train(x_train, y_train, w, predict, epoches_number=10, speed=0.3)\n",
        "print(f'Веса после обучения: {w}')\n",
        "print(\"Проверка после обучения:\")\n",
        "test(x_train, y_train, w, predict)\n"
      ],
      "metadata": {
        "colab": {
          "base_uri": "https://localhost:8080/"
        },
        "outputId": "9c617985-08aa-4398-e32d-246628ddeb32",
        "id": "4iGlZ-cWx9Wx"
      },
      "execution_count": null,
      "outputs": [
        {
          "output_type": "stream",
          "name": "stdout",
          "text": [
            "Веса после обучения: [0.8400000000000001, 0.62]\n",
            "Проверка после обучения:\n",
            "x=[1, 1]; predicted value: 1; expected value: 0; predicition is right: False;\n",
            "x=[1, 0]; predicted value: 0; expected value: 1; predicition is right: False;\n",
            "x=[0, 1]; predicted value: 0; expected value: 1; predicition is right: False;\n",
            "x=[0, 0]; predicted value: 0; expected value: 0; predicition is right: True;\n",
            "errors number: 3\n"
          ]
        }
      ]
    },
    {
      "cell_type": "markdown",
      "source": [
        "Опытным путем было получено, что даже при обучении в течение 10 эпох, количество ошибок не только не понижается, а может даже повысится. Это происходит потому, что операция XOR является более комплексной, и содержит в себе такие простые операции, как конъюнкция и дизъюнкция. "
      ],
      "metadata": {
        "id": "c6ylLXTjx9Wx"
      }
    },
    {
      "cell_type": "markdown",
      "source": [
        "### Конъюнкция отрицания X1 и X2\n"
      ],
      "metadata": {
        "id": "_uFyBwWPzzoa"
      }
    },
    {
      "cell_type": "markdown",
      "source": [
        "Зададим тренировочные и проверочные наборы и случайные веса, проверим"
      ],
      "metadata": {
        "id": "sqT3NZyKzzoe"
      }
    },
    {
      "cell_type": "code",
      "source": [
        "x_train = [[1, 1], [1, 0], [0, 1], [0, 0]]\n",
        "y_train = [0, 0, 1, 0]\n",
        "w = getStartingWeights(2)\n",
        "print(f'Исходные веса: {w}')\n",
        "print(\"Проверка до обучения:\")\n",
        "test(x_train, y_train, w, predict)"
      ],
      "metadata": {
        "colab": {
          "base_uri": "https://localhost:8080/"
        },
        "outputId": "6846a2dc-e432-4146-fc5d-d3eb6fc26412",
        "id": "Dav_gaQNzzof"
      },
      "execution_count": null,
      "outputs": [
        {
          "output_type": "stream",
          "name": "stdout",
          "text": [
            "Исходные веса: [1.0, 0.6]\n",
            "Проверка до обучения:\n",
            "x=[1, 1]; predicted value: 1; expected value: 0; predicition is right: False;\n",
            "x=[1, 0]; predicted value: 1; expected value: 0; predicition is right: False;\n",
            "x=[0, 1]; predicted value: 0; expected value: 1; predicition is right: False;\n",
            "x=[0, 0]; predicted value: 0; expected value: 0; predicition is right: True;\n",
            "errors number: 3\n"
          ]
        }
      ]
    },
    {
      "cell_type": "markdown",
      "source": [
        "Обучим нейрон для повышения точности, со скоростью 0.3"
      ],
      "metadata": {
        "id": "lTExUibqzzof"
      }
    },
    {
      "cell_type": "code",
      "source": [
        "train(x_train, y_train, w, predict, epoches_number=9, speed=0.3)\n",
        "print(f'Веса после обучения: {w}')\n",
        "print(\"Проверка после обучения:\")\n",
        "test(x_train, y_train, w, predict)\n"
      ],
      "metadata": {
        "colab": {
          "base_uri": "https://localhost:8080/"
        },
        "outputId": "bc92701c-dce8-4e90-c130-5787bb2f6cb4",
        "id": "pKyh6YXezzof"
      },
      "execution_count": null,
      "outputs": [
        {
          "output_type": "stream",
          "name": "stdout",
          "text": [
            "Веса после обучения: [-0.5, 1.2]\n",
            "Проверка после обучения:\n",
            "x=[1, 1]; predicted value: 0; expected value: 0; predicition is right: True;\n",
            "x=[1, 0]; predicted value: 0; expected value: 0; predicition is right: True;\n",
            "x=[0, 1]; predicted value: 1; expected value: 1; predicition is right: True;\n",
            "x=[0, 0]; predicted value: 0; expected value: 0; predicition is right: True;\n",
            "errors number: 0\n"
          ]
        }
      ]
    },
    {
      "cell_type": "markdown",
      "source": [
        "Опытным путем было получено, что девяти эпох достаточно для получения 100% точности"
      ],
      "metadata": {
        "id": "RdrERtGszzof"
      }
    },
    {
      "cell_type": "markdown",
      "source": [
        "### Конъюнкция X1 и отрицания X2\n"
      ],
      "metadata": {
        "id": "xpHkPdcp04XE"
      }
    },
    {
      "cell_type": "markdown",
      "source": [
        "Зададим тренировочные и проверочные наборы и случайные веса, проверим"
      ],
      "metadata": {
        "id": "z0X3wdgd04XK"
      }
    },
    {
      "cell_type": "code",
      "source": [
        "x_train = [[1, 1], [1, 0], [0, 1], [0, 0]]\n",
        "y_train = [0, 1, 0, 0]\n",
        "w = getStartingWeights(2)\n",
        "print(f'Исходные веса: {w}')\n",
        "print(\"Проверка до обучения:\")\n",
        "test(x_train, y_train, w, predict)"
      ],
      "metadata": {
        "colab": {
          "base_uri": "https://localhost:8080/"
        },
        "outputId": "f1b76dff-62c0-4efe-cda3-184da14c93f2",
        "id": "EiK22on-04XK"
      },
      "execution_count": null,
      "outputs": [
        {
          "output_type": "stream",
          "name": "stdout",
          "text": [
            "Исходные веса: [0.9, 0.36]\n",
            "Проверка до обучения:\n",
            "x=[1, 1]; predicted value: 1; expected value: 0; predicition is right: False;\n",
            "x=[1, 0]; predicted value: 0; expected value: 1; predicition is right: False;\n",
            "x=[0, 1]; predicted value: 0; expected value: 0; predicition is right: True;\n",
            "x=[0, 0]; predicted value: 0; expected value: 0; predicition is right: True;\n",
            "errors number: 2\n"
          ]
        }
      ]
    },
    {
      "cell_type": "markdown",
      "source": [
        "Обучим нейрон для повышения точности, со скоростью 0.3"
      ],
      "metadata": {
        "id": "ZEFG6UMy04XK"
      }
    },
    {
      "cell_type": "code",
      "source": [
        "train(x_train, y_train, w, predict, epoches_number=7, speed=0.3)\n",
        "print(f'Веса после обучения: {w}')\n",
        "print(\"Проверка после обучения:\")\n",
        "test(x_train, y_train, w, predict)\n"
      ],
      "metadata": {
        "colab": {
          "base_uri": "https://localhost:8080/"
        },
        "outputId": "79f40994-cd3e-49fa-92fe-68e1a541aec3",
        "id": "aLVSsbJT04XL"
      },
      "execution_count": null,
      "outputs": [
        {
          "output_type": "stream",
          "name": "stdout",
          "text": [
            "Веса после обучения: [1.2000000000000002, -0.24]\n",
            "Проверка после обучения:\n",
            "x=[1, 1]; predicted value: 0; expected value: 0; predicition is right: True;\n",
            "x=[1, 0]; predicted value: 1; expected value: 1; predicition is right: True;\n",
            "x=[0, 1]; predicted value: 0; expected value: 0; predicition is right: True;\n",
            "x=[0, 0]; predicted value: 0; expected value: 0; predicition is right: True;\n",
            "errors number: 0\n"
          ]
        }
      ]
    },
    {
      "cell_type": "markdown",
      "source": [
        "Опытным путем было получено, что семи эпох достаточно для получения 100% точности"
      ],
      "metadata": {
        "id": "2NP4l8RP04XL"
      }
    },
    {
      "cell_type": "markdown",
      "source": [
        "## Задание №4\n",
        "Изменить кодировку данных и функцию активации.\n",
        "Истина = 1; Ложь = -1;\n",
        "Функия активации: пороговая - если полученное значение больше 0,  результат =1, иначе =-1 "
      ],
      "metadata": {
        "id": "L-h2IMUs2Nux"
      }
    },
    {
      "cell_type": "markdown",
      "source": [
        "Изменим функцию предсказания для новой кодировки и функции активации."
      ],
      "metadata": {
        "id": "oGYmLZdO3YBE"
      }
    },
    {
      "cell_type": "code",
      "source": [
        "def predictNegative(x, w):\n",
        "  summator = sum(a*b for a, b in list(zip(x, w))) # Считаем сумму произведений\n",
        "  act = 1 if summator > 0 else -1\n",
        "  return act"
      ],
      "metadata": {
        "id": "f-Klfufz3mGb"
      },
      "execution_count": null,
      "outputs": []
    },
    {
      "cell_type": "markdown",
      "source": [
        "Зададим тренировочные и проверочные наборы и случайные веса, проверим"
      ],
      "metadata": {
        "id": "hC0rvh2n4uKA"
      }
    },
    {
      "cell_type": "code",
      "source": [
        "x_train = [[1, 1], [1, -1], [-1, 1], [-1, -1]]\n",
        "y_train = [1, -1, -1, -1]\n",
        "w = getStartingWeights(2)\n",
        "print(f'Исходные веса: {w}')\n",
        "print(\"Проверка до обучения:\")\n",
        "test(x_train, y_train, w, predictNegative)"
      ],
      "metadata": {
        "colab": {
          "base_uri": "https://localhost:8080/"
        },
        "outputId": "5415e6d5-d4e3-4908-a72d-6b3e97febf50",
        "id": "hIH4k1s04qOh"
      },
      "execution_count": null,
      "outputs": [
        {
          "output_type": "stream",
          "name": "stdout",
          "text": [
            "Исходные веса: [0.93, 0.99]\n",
            "Проверка до обучения:\n",
            "x=[1, 1]; predicted value: 1; expected value: 1; predicition is right: True;\n",
            "x=[1, -1]; predicted value: -1; expected value: -1; predicition is right: True;\n",
            "x=[-1, 1]; predicted value: 1; expected value: -1; predicition is right: False;\n",
            "x=[-1, -1]; predicted value: -1; expected value: -1; predicition is right: True;\n",
            "errors number: 1\n"
          ]
        }
      ]
    },
    {
      "cell_type": "markdown",
      "source": [
        "Обучим нейрон для повышения точности, со скоростью 0.1"
      ],
      "metadata": {
        "id": "er3M6XeU9FmD"
      }
    },
    {
      "cell_type": "code",
      "source": [
        "train(x_train, y_train, w, predictNegative, epoches_number=100, speed=0.1)\n",
        "print(f'Веса после обучения: {w}')\n",
        "print(\"Проверка после обучения:\")\n",
        "test(x_train, y_train, w, predictNegative)\n"
      ],
      "metadata": {
        "colab": {
          "base_uri": "https://localhost:8080/"
        },
        "outputId": "cb2c96af-6e66-4575-8e84-0fa5aff92f25",
        "id": "kFnDgqp29Iqj"
      },
      "execution_count": null,
      "outputs": [
        {
          "output_type": "stream",
          "name": "stdout",
          "text": [
            "Веса после обучения: [0.97, 0.95]\n",
            "Проверка после обучения:\n",
            "x=[1, 1]; predicted value: 1; expected value: 1; predicition is right: True;\n",
            "x=[1, -1]; predicted value: 1; expected value: -1; predicition is right: False;\n",
            "x=[-1, 1]; predicted value: -1; expected value: -1; predicition is right: True;\n",
            "x=[-1, -1]; predicted value: -1; expected value: -1; predicition is right: True;\n",
            "errors number: 1\n"
          ]
        }
      ]
    },
    {
      "cell_type": "markdown",
      "source": [
        "Как видно даже при большом количестве эпох и низской скорости нейрон не удается обучить.\n",
        "Однако видно, что возможно подобрать веса для реализации данной кодировки с операцией конъюнкции. Веса должны быть ровны и положительны."
      ],
      "metadata": {
        "id": "M_i_RkkH9MQp"
      }
    },
    {
      "cell_type": "code",
      "source": [
        "x_train = [[1, 1], [1, -1], [-1, 1], [-1, -1]]\n",
        "y_train = [1, -1, -1, -1]\n",
        "w = [0.1, 0.1]\n",
        "print(f'Исходные веса: {w}')\n",
        "print(\"Проверка до обучения:\")\n",
        "test(x_train, y_train, w, predictNegative)"
      ],
      "metadata": {
        "colab": {
          "base_uri": "https://localhost:8080/"
        },
        "id": "s_xoW9sNB0eF",
        "outputId": "98a3de40-23d2-47bd-b1a9-8666535fff48"
      },
      "execution_count": null,
      "outputs": [
        {
          "output_type": "stream",
          "name": "stdout",
          "text": [
            "Исходные веса: [0.1, 0.1]\n",
            "Проверка до обучения:\n",
            "x=[1, 1]; predicted value: 1; expected value: 1; predicition is right: True;\n",
            "x=[1, -1]; predicted value: -1; expected value: -1; predicition is right: True;\n",
            "x=[-1, 1]; predicted value: -1; expected value: -1; predicition is right: True;\n",
            "x=[-1, -1]; predicted value: -1; expected value: -1; predicition is right: True;\n",
            "errors number: 0\n"
          ]
        }
      ]
    },
    {
      "cell_type": "markdown",
      "source": [
        "## Задание №5\n",
        "Добавить еще один вход данных на нейрон (на дополнительный вход всегда приходит единица)"
      ],
      "metadata": {
        "id": "jmgDxcybB-Xv"
      }
    },
    {
      "cell_type": "markdown",
      "source": [
        "Проверим, получится ли теперь обучить нейрон из задания №4."
      ],
      "metadata": {
        "id": "tHKR-KJuB-X0"
      }
    },
    {
      "cell_type": "code",
      "source": [
        "x_train = [[1, 1, 1], [1, -1, 1], [-1, 1, 1], [-1, -1, 1]]\n",
        "y_train = [1, -1, -1, -1]\n",
        "w =  getStartingWeights(3)\n",
        "print(f'Исходные веса: {w}')\n",
        "print(\"Проверка до обучения:\")\n",
        "test(x_train, y_train, w, predictNegative)"
      ],
      "metadata": {
        "colab": {
          "base_uri": "https://localhost:8080/"
        },
        "outputId": "911f10c9-7065-45c3-d1d7-833901e9488c",
        "id": "Fy2U3UeoB-X0"
      },
      "execution_count": null,
      "outputs": [
        {
          "output_type": "stream",
          "name": "stdout",
          "text": [
            "Исходные веса: [0.5, 0.1, 0.72]\n",
            "Проверка до обучения:\n",
            "x=[1, 1, 1]; predicted value: 1; expected value: 1; predicition is right: True;\n",
            "x=[1, -1, 1]; predicted value: 1; expected value: -1; predicition is right: False;\n",
            "x=[-1, 1, 1]; predicted value: 1; expected value: -1; predicition is right: False;\n",
            "x=[-1, -1, 1]; predicted value: 1; expected value: -1; predicition is right: False;\n",
            "errors number: 3\n"
          ]
        }
      ]
    },
    {
      "cell_type": "markdown",
      "source": [
        "Обучим нейрон для повышения точности, со скоростью 0.3"
      ],
      "metadata": {
        "id": "ZKhKSNM3B-X0"
      }
    },
    {
      "cell_type": "code",
      "source": [
        "train(x_train, y_train, w, predictNegative, epoches_number=1, speed=0.3)\n",
        "print(f'Веса после обучения: {w}')\n",
        "print(\"Проверка после обучения:\")\n",
        "test(x_train, y_train, w, predictNegative)\n"
      ],
      "metadata": {
        "colab": {
          "base_uri": "https://localhost:8080/"
        },
        "outputId": "0a6be155-3d98-4139-dc81-a31d057f85d0",
        "id": "hZecr4bqB-X0"
      },
      "execution_count": null,
      "outputs": [
        {
          "output_type": "stream",
          "name": "stdout",
          "text": [
            "Веса после обучения: [0.5, 0.09999999999999998, -0.48]\n",
            "Проверка после обучения:\n",
            "x=[1, 1, 1]; predicted value: 1; expected value: 1; predicition is right: True;\n",
            "x=[1, -1, 1]; predicted value: -1; expected value: -1; predicition is right: True;\n",
            "x=[-1, 1, 1]; predicted value: -1; expected value: -1; predicition is right: True;\n",
            "x=[-1, -1, 1]; predicted value: -1; expected value: -1; predicition is right: True;\n",
            "errors number: 0\n"
          ]
        }
      ]
    },
    {
      "cell_type": "markdown",
      "source": [
        "Опытным путем было получено, что одной эпохи достаточно для получения 100% точности"
      ],
      "metadata": {
        "id": "qUwqxkUvDgaj"
      }
    },
    {
      "cell_type": "markdown",
      "source": [
        "# Работа на занятии\n",
        "Построение нейросети для выполения операции XOR"
      ],
      "metadata": {
        "id": "PKVJ2fxWECxd"
      }
    },
    {
      "cell_type": "markdown",
      "source": [
        "Для того чтобы обучить нейросеть операции XOR необходимо обучить три нейрона\n",
        "1.   Конъюнкция отрицания X1 и X2\n",
        "2.   Конъюнкция X1 и отрицания X2\n",
        "3.   Дизъюнкция\n",
        "\n",
        "Дизъюнкция должна происходить по итогу рдвух конъюнкций.\n",
        "\n",
        "Зададим необходимые для работы нейросети функции"
      ],
      "metadata": {
        "id": "hz725zSMHf71"
      }
    },
    {
      "cell_type": "code",
      "source": [
        "from random import randint\n",
        "\n",
        "def getStartingWeights(number):\n",
        "  return [randint(0, 100)/100 for _ in range(number)]\n",
        "\n",
        "def predict(x, w):\n",
        "  summator = sum(a*b for a, b in list(zip(x, w))) # Считаем сумму произведений\n",
        "  act = 1 if summator >= 1 else 0\n",
        "  return act\n",
        "\n",
        "def test(x_collection, y_collection, w, predictFunc):\n",
        "  error_count = 0\n",
        "  for i, x in enumerate(x_collection) :\n",
        "    predcited = predictFunc(x, w)\n",
        "    print(f'x={x}; predicted value: {predcited}; expected value: {y_collection[i]}; predicition is right: {predcited==y_collection[i]};' )\n",
        "    if predcited != y_collection[i]:\n",
        "      error_count += 1 \n",
        "  print(f'errors number: {error_count}')\n",
        "\n",
        "def train(x_train, y_train, w, predictFunc, epoches_number, speed):\n",
        "  for _ in range(epoches_number):\n",
        "    for i in range(len(x_train)):\n",
        "      error = y_train[i] - predictFunc(x_train[i], w)\n",
        "      if error !=0:\n",
        "        for j in range(len(w)):\n",
        "          w[j] = w[j] + error * x_train[i][j] * speed"
      ],
      "metadata": {
        "id": "-xtQ3wfMIzg9"
      },
      "execution_count": null,
      "outputs": []
    },
    {
      "cell_type": "markdown",
      "source": [
        "Обучим нейросеть необходимым операциям"
      ],
      "metadata": {
        "id": "_v8x_St6JMoo"
      }
    },
    {
      "cell_type": "code",
      "source": [
        "x_train = [[1, 1], [1, 0], [0, 1], [0, 0]]\n",
        "\n",
        "w = [\n",
        "    getStartingWeights(2), # Веса конъюнкции отрицания X1 и X2\n",
        "    getStartingWeights(2), # Веса конъюнкции X1 и отрицания X2\n",
        "    getStartingWeights(2), # Веса дизъюнкции\n",
        "]  \n",
        "\n",
        "print(f'Исходные веса: {w}')\n",
        "x_train = [[1, 1], [1, 0], [0, 1], [0, 0]]\n",
        "\n",
        "y_train_1 = [0, 0, 1, 0]  # Конъюнкция отрицания X1 и X2\n",
        "y_train_2 = [0, 1, 0, 0] # Конъюнкция X1 и отрицания X2\n",
        "y_train_3 = [1, 1, 1, 0] # Дизъюнкция\n",
        "y_test = [0, 1, 1, 0] # Тест XOR\n",
        "\n",
        "\n",
        "train(x_train, y_train_1, w[0], predict, 10, 0.3) # Обучаем конъюнкцию отрицания X1 и X2\n",
        "train(x_train, y_train_2, w[1], predict, 10, 0.3) # Обучаем конъюнкцию X1 и отрицания X2\n",
        "train(x_train, y_train_3, w[2], predict, 10, 0.3) # Обучаем дизъюнкцию"
      ],
      "metadata": {
        "colab": {
          "base_uri": "https://localhost:8080/"
        },
        "id": "QUfe86uDJQxn",
        "outputId": "d4084eca-31cf-407d-e63a-0da899f291cd"
      },
      "execution_count": null,
      "outputs": [
        {
          "output_type": "stream",
          "name": "stdout",
          "text": [
            "Исходные веса: [[0.79, 0.77], [0.43, 0.2], [0.08, 0.99]]\n"
          ]
        }
      ]
    },
    {
      "cell_type": "markdown",
      "source": [
        "Совместим опреации, для получения XOR"
      ],
      "metadata": {
        "id": "XXr4d4CxOrjQ"
      }
    },
    {
      "cell_type": "code",
      "source": [
        "print(f'Полученные веса: {w}')\n",
        "print(f'Веса после обучения: {w}')\n",
        "print(\"Проверка после обучения:\")\n",
        "test([[predict(x, w[0]), predict(x, w[1])] for x in x_train], y_test, w[2], predict )"
      ],
      "metadata": {
        "colab": {
          "base_uri": "https://localhost:8080/"
        },
        "id": "_uwYqyq5OzIj",
        "outputId": "13ecde4d-af9f-45b8-aa79-05fa1fcddc06"
      },
      "execution_count": null,
      "outputs": [
        {
          "output_type": "stream",
          "name": "stdout",
          "text": [
            "Полученные веса: [[-0.10999999999999993, 1.07], [1.03, -0.09999999999999998], [1.28, 1.29]]\n",
            "Веса после обучения: [[-0.10999999999999993, 1.07], [1.03, -0.09999999999999998], [1.28, 1.29]]\n",
            "Проверка после обучения:\n",
            "x=[0, 0]; predicted value: 0; expected value: 0; predicition is right: True;\n",
            "x=[0, 1]; predicted value: 1; expected value: 1; predicition is right: True;\n",
            "x=[1, 0]; predicted value: 1; expected value: 1; predicition is right: True;\n",
            "x=[0, 0]; predicted value: 0; expected value: 0; predicition is right: True;\n",
            "errors number: 0\n"
          ]
        }
      ]
    }
  ]
}